{
 "cells": [
  {
   "cell_type": "code",
   "execution_count": 33,
   "metadata": {},
   "outputs": [],
   "source": [
    "import nest_asyncio, sys, asyncio\n",
    "nest_asyncio.apply()\n",
    "\n",
    "from pathlib import Path\n",
    "from mcp import ClientSession, StdioServerParameters\n",
    "from mcp.client.stdio import stdio_client\n",
    "from langchain_mcp_adapters.tools import load_mcp_tools\n",
    "from langgraph.prebuilt import create_react_agent\n",
    "from langchain_openai import ChatOpenAI\n",
    "\n",
    "from IPython import display"
   ]
  },
  {
   "cell_type": "code",
   "execution_count": 21,
   "metadata": {},
   "outputs": [],
   "source": [
    "model = AzureChatOpenAI(\n",
    "    api_key=os.environ['AZURE_OPENAI_KEY'],\n",
    "    azure_endpoint=os.environ['AZURE_OPENAI_ENDPOINT'],\n",
    "    azure_deployment=os.environ['AZURE_OPENAI_DEPLOYMENT_ID'],\n",
    "    api_version=os.environ['AZURE_OPENAI_API_VERSION'],\n",
    "    temperature=0,\n",
    "    timeout=20,\n",
    "    max_retries=2,\n",
    ")"
   ]
  },
  {
   "cell_type": "code",
   "execution_count": 22,
   "metadata": {},
   "outputs": [],
   "source": [
    "server_params = StdioServerParameters(\n",
    "    command=\"python\",\n",
    "    args=[\"./sequential_thinking_mcp.py\"],\n",
    ")"
   ]
  },
  {
   "cell_type": "code",
   "execution_count": 23,
   "metadata": {},
   "outputs": [],
   "source": [
    "async def run_agent(question: str):\n",
    "    async with stdio_client(server_params) as (read, write):\n",
    "        async with ClientSession(read, write) as session:\n",
    "            await session.initialize()                    # handshake\n",
    "            tools = await load_mcp_tools(session)         # discover server‑side tools\n",
    "            agent = create_react_agent(model, tools)      # LangGraph ReAct agent\n",
    "            return await agent.ainvoke({\"messages\": question})"
   ]
  },
  {
   "cell_type": "code",
   "execution_count": 24,
   "metadata": {},
   "outputs": [],
   "source": [
    "response = await run_agent(\"Evaluate the better player tyrese halliburton vs Anthony Edwards\")"
   ]
  },
  {
   "cell_type": "code",
   "execution_count": 36,
   "metadata": {},
   "outputs": [
    {
     "name": "stdout",
     "output_type": "stream",
     "text": [
      "In evaluating Tyrese Halliburton and Anthony Edwards, we find the following:\n",
      "\n",
      "- **Tyrese Halliburton**: \n",
      "  - Points per game: 20.7\n",
      "  - Assists: 10.4 (leading the league)\n",
      "  - Rebounds: 4.0\n",
      "  - Shooting: 48.0% from the field, 40.3% from three-point range\n",
      "  - Impact: Halliburton is known for his exceptional playmaking ability, significantly contributing to his team's offensive flow and creating opportunities for teammates.\n",
      "\n",
      "- **Anthony Edwards**: \n",
      "  - Points per game: 24.6\n",
      "  - Assists: 5.8\n",
      "  - Rebounds: 6.0\n",
      "  - Shooting: 45.0% from the field, 36.5% from three-point range\n",
      "  - Impact: Edwards is recognized for his scoring ability and athleticism, often being the primary offensive option for his team.\n",
      "\n",
      "**Final Evaluation**: Tyrese Halliburton excels in playmaking and efficiency, while Anthony Edwards stands out as a prolific scorer and athlete. The choice of who is the better player may depend on team needs: a playmaker or a scorer.\n"
     ]
    }
   ],
   "source": [
    "print(response['messages'][-1].content)"
   ]
  },
  {
   "cell_type": "code",
   "execution_count": 37,
   "metadata": {},
   "outputs": [
    {
     "name": "stdout",
     "output_type": "stream",
     "text": [
      "Evaluating Tyrese Haliburton and Anthony Edwards involves looking at various aspects of their games, including their statistics, skill sets, impact on their teams, and potential for future development. Both players have shown significant promise in the NBA, but they excel in different areas.\n",
      "\n",
      "### Tyrese Haliburton\n",
      "**Strengths:**\n",
      "- **Playmaking:** Haliburton is known for his exceptional passing ability and court vision. He has a high assist-to-turnover ratio, which indicates his efficiency as a playmaker.\n",
      "- **Shooting:** He has a strong shooting percentage from both the field and beyond the arc, making him a reliable scoring option.\n",
      "- **Defense:** Haliburton is also recognized for his defensive skills, including his ability to generate steals and disrupt opposing offenses.\n",
      "- **Basketball IQ:** His understanding of the game is often highlighted, allowing him to make smart decisions on the court.\n",
      "\n",
      "**Weaknesses:**\n",
      "- **Scoring Volume:** While he is an efficient scorer, he may not score at the same volume as some other star players, which can limit his impact in high-scoring games.\n",
      "\n",
      "### Anthony Edwards\n",
      "**Strengths:**\n",
      "- **Scoring Ability:** Edwards is a dynamic scorer with the ability to create his own shot. He can score from all three levels (inside, mid-range, and three-point range).\n",
      "- **Athleticism:** His athleticism allows him to finish strong at the rim and be a threat in transition.\n",
      "- **Potential:** Edwards has shown significant growth since entering the league and has the potential to become a franchise player.\n",
      "\n",
      "**Weaknesses:**\n",
      "- **Consistency:** Edwards has had games where he struggles with efficiency and shot selection, which can impact his overall performance.\n",
      "- **Defense:** While he has the physical tools to be a good defender, his defensive consistency has been questioned.\n",
      "\n",
      "### Conclusion\n",
      "The evaluation of who is the \"better\" player depends on what you value more in a basketball player. If you prioritize playmaking, efficiency, and basketball IQ, Tyrese Haliburton may be the better choice. If you value scoring ability, athleticism, and the potential to be a franchise player, Anthony Edwards might be more appealing.\n",
      "\n",
      "Ultimately, both players have unique strengths and weaknesses, and their effectiveness can vary based on team needs and playing style. As of now, Haliburton may have the edge in terms of overall impact on a game due to his playmaking and efficiency, while Edwards has the potential to become a superstar scorer in the league.\n"
     ]
    }
   ],
   "source": [
    "print(model.invoke([\n",
    "    {\n",
    "        'role': 'user',\n",
    "        'content': 'Evaluate the better player tyrese halliburton vs Anthony Edwards'\n",
    "    }\n",
    "]).content)"
   ]
  },
  {
   "cell_type": "code",
   "execution_count": null,
   "metadata": {},
   "outputs": [],
   "source": []
  }
 ],
 "metadata": {
  "kernelspec": {
   "display_name": ".venv",
   "language": "python",
   "name": "python3"
  },
  "language_info": {
   "codemirror_mode": {
    "name": "ipython",
    "version": 3
   },
   "file_extension": ".py",
   "mimetype": "text/x-python",
   "name": "python",
   "nbconvert_exporter": "python",
   "pygments_lexer": "ipython3",
   "version": "3.11.11"
  }
 },
 "nbformat": 4,
 "nbformat_minor": 2
}
