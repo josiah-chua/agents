{
 "cells": [
  {
   "cell_type": "markdown",
   "metadata": {},
   "source": [
    "# SQL Utils"
   ]
  },
  {
   "cell_type": "code",
   "execution_count": 1,
   "metadata": {},
   "outputs": [],
   "source": [
    "import sqlite3\n",
    "import random\n",
    "from faker import Faker\n",
    "from datetime import datetime\n",
    "\n",
    "fake = Faker()"
   ]
  },
  {
   "cell_type": "code",
   "execution_count": 2,
   "metadata": {},
   "outputs": [],
   "source": [
    "# Connect to (or create) the SQLite database file.\n",
    "conn = sqlite3.connect(\"ecommerce.db\")\n",
    "cursor = conn.cursor()\n",
    "\n",
    "# Create tables\n",
    "cursor.execute(\"\"\"\n",
    "CREATE TABLE IF NOT EXISTS users (\n",
    "    user_id INTEGER PRIMARY KEY AUTOINCREMENT,\n",
    "    username TEXT UNIQUE NOT NULL,\n",
    "    email TEXT UNIQUE NOT NULL,\n",
    "    password_hash TEXT NOT NULL,\n",
    "    created_at TIMESTAMP DEFAULT CURRENT_TIMESTAMP\n",
    ");\n",
    "\"\"\")\n",
    "\n",
    "cursor.execute(\"\"\"\n",
    "CREATE TABLE IF NOT EXISTS addresses (\n",
    "    address_id INTEGER PRIMARY KEY AUTOINCREMENT,\n",
    "    user_id INTEGER,\n",
    "    street TEXT,\n",
    "    city TEXT,\n",
    "    state TEXT,\n",
    "    zip_code TEXT,\n",
    "    country TEXT,\n",
    "    FOREIGN KEY(user_id) REFERENCES users(user_id)\n",
    ");\n",
    "\"\"\")\n",
    "\n",
    "cursor.execute(\"\"\"\n",
    "CREATE TABLE IF NOT EXISTS categories (\n",
    "    category_id INTEGER PRIMARY KEY AUTOINCREMENT,\n",
    "    category_name TEXT UNIQUE NOT NULL,\n",
    "    description TEXT\n",
    ");\n",
    "\"\"\")\n",
    "\n",
    "cursor.execute(\"\"\"\n",
    "CREATE TABLE IF NOT EXISTS products (\n",
    "    product_id INTEGER PRIMARY KEY AUTOINCREMENT,\n",
    "    product_name TEXT NOT NULL,\n",
    "    category_id INTEGER,\n",
    "    description TEXT,\n",
    "    price REAL NOT NULL,\n",
    "    stock_quantity INTEGER DEFAULT 0,\n",
    "    FOREIGN KEY(category_id) REFERENCES categories(category_id)\n",
    ");\n",
    "\"\"\")\n",
    "\n",
    "cursor.execute(\"\"\"\n",
    "CREATE TABLE IF NOT EXISTS orders (\n",
    "    order_id INTEGER PRIMARY KEY AUTOINCREMENT,\n",
    "    user_id INTEGER,\n",
    "    order_date TIMESTAMP DEFAULT CURRENT_TIMESTAMP,\n",
    "    total_amount REAL NOT NULL,\n",
    "    shipping_address_id INTEGER,\n",
    "    FOREIGN KEY(user_id) REFERENCES users(user_id),\n",
    "    FOREIGN KEY(shipping_address_id) REFERENCES addresses(address_id)\n",
    ");\n",
    "\"\"\")\n",
    "\n",
    "cursor.execute(\"\"\"\n",
    "CREATE TABLE IF NOT EXISTS order_items (\n",
    "    order_item_id INTEGER PRIMARY KEY AUTOINCREMENT,\n",
    "    order_id INTEGER,\n",
    "    product_id INTEGER,\n",
    "    quantity INTEGER NOT NULL,\n",
    "    unit_price REAL NOT NULL,\n",
    "    FOREIGN KEY(order_id) REFERENCES orders(order_id),\n",
    "    FOREIGN KEY(product_id) REFERENCES products(product_id)\n",
    ");\n",
    "\"\"\")\n",
    "\n",
    "cursor.execute(\"\"\"\n",
    "CREATE TABLE IF NOT EXISTS payments (\n",
    "    payment_id INTEGER PRIMARY KEY AUTOINCREMENT,\n",
    "    order_id INTEGER,\n",
    "    payment_date TIMESTAMP DEFAULT CURRENT_TIMESTAMP,\n",
    "    amount REAL NOT NULL,\n",
    "    payment_method TEXT,\n",
    "    status TEXT,\n",
    "    FOREIGN KEY(order_id) REFERENCES orders(order_id)\n",
    ");\n",
    "\"\"\")\n",
    "\n",
    "cursor.execute(\"\"\"\n",
    "CREATE TABLE IF NOT EXISTS reviews (\n",
    "    review_id INTEGER PRIMARY KEY AUTOINCREMENT,\n",
    "    user_id INTEGER,\n",
    "    product_id INTEGER,\n",
    "    rating INTEGER CHECK (rating >= 1 AND rating <= 5),\n",
    "    comment TEXT,\n",
    "    review_date TIMESTAMP DEFAULT CURRENT_TIMESTAMP,\n",
    "    FOREIGN KEY(user_id) REFERENCES users(user_id),\n",
    "    FOREIGN KEY(product_id) REFERENCES products(product_id)\n",
    ");\n",
    "\"\"\")\n",
    "\n",
    "conn.commit()"
   ]
  },
  {
   "cell_type": "code",
   "execution_count": 3,
   "metadata": {},
   "outputs": [
    {
     "name": "stdout",
     "output_type": "stream",
     "text": [
      "Database populated successfully with Faker data!\n"
     ]
    },
    {
     "name": "stderr",
     "output_type": "stream",
     "text": [
      "C:\\Users\\jochua\\AppData\\Local\\Temp\\ipykernel_31516\\2783885884.py:88: DeprecationWarning: The default datetime adapter is deprecated as of Python 3.12; see the sqlite3 documentation for suggested replacement recipes\n",
      "  cursor.executemany(\n",
      "C:\\Users\\jochua\\AppData\\Local\\Temp\\ipykernel_31516\\2783885884.py:133: DeprecationWarning: The default datetime adapter is deprecated as of Python 3.12; see the sqlite3 documentation for suggested replacement recipes\n",
      "  cursor.executemany(\n",
      "C:\\Users\\jochua\\AppData\\Local\\Temp\\ipykernel_31516\\2783885884.py:151: DeprecationWarning: The default datetime adapter is deprecated as of Python 3.12; see the sqlite3 documentation for suggested replacement recipes\n",
      "  cursor.executemany(\n"
     ]
    }
   ],
   "source": [
    "#####################################\n",
    "# Populate Users and Addresses\n",
    "#####################################\n",
    "num_users = 30\n",
    "users_data = []\n",
    "addresses_data = []\n",
    "for _ in range(num_users):\n",
    "    username = fake.user_name()\n",
    "    email = fake.email()\n",
    "    password_hash = fake.sha256()\n",
    "    users_data.append((username, email, password_hash))\n",
    "cursor.executemany(\"INSERT INTO users (username, email, password_hash) VALUES (?, ?, ?);\", users_data)\n",
    "conn.commit()\n",
    "\n",
    "# Retrieve user_ids for address generation.\n",
    "cursor.execute(\"SELECT user_id FROM users;\")\n",
    "user_ids = [row[0] for row in cursor.fetchall()]\n",
    "\n",
    "# For simplicity, create one address per user.\n",
    "for user_id in user_ids:\n",
    "    street = fake.street_address()\n",
    "    city = fake.city()\n",
    "    state = fake.state_abbr()\n",
    "    zip_code = fake.zipcode()\n",
    "    country = fake.country()\n",
    "    addresses_data.append((user_id, street, city, state, zip_code, country))\n",
    "cursor.executemany(\n",
    "    \"INSERT INTO addresses (user_id, street, city, state, zip_code, country) VALUES (?, ?, ?, ?, ?, ?);\",\n",
    "    addresses_data,\n",
    ")\n",
    "conn.commit()\n",
    "\n",
    "#####################################\n",
    "# Populate Categories\n",
    "#####################################\n",
    "categories_list = [\n",
    "    \"Electronics\", \"Books\", \"Clothing\", \"Home\", \"Toys\",\n",
    "    \"Sports\", \"Beauty\", \"Grocery\", \"Automotive\", \"Office\"\n",
    "]\n",
    "categories_data = []\n",
    "for cat in categories_list:\n",
    "    description = fake.sentence(nb_words=10)\n",
    "    categories_data.append((cat, description))\n",
    "cursor.executemany(\"INSERT INTO categories (category_name, description) VALUES (?, ?);\", categories_data)\n",
    "conn.commit()\n",
    "\n",
    "# Get category ids.\n",
    "cursor.execute(\"SELECT category_id FROM categories;\")\n",
    "category_ids = [row[0] for row in cursor.fetchall()]\n",
    "\n",
    "#####################################\n",
    "# Populate Products\n",
    "#####################################\n",
    "num_products = 100\n",
    "products_data = []\n",
    "# We'll also store product prices in a list for later reference.\n",
    "products_list = []\n",
    "for i in range(num_products):\n",
    "    product_name = fake.catch_phrase()\n",
    "    category_id = random.choice(category_ids)\n",
    "    description = fake.text(max_nb_chars=100)\n",
    "    price = round(random.uniform(5, 2000), 2)\n",
    "    stock_quantity = random.randint(0, 500)\n",
    "    products_data.append((product_name, category_id, description, price, stock_quantity))\n",
    "cursor.executemany(\n",
    "    \"INSERT INTO products (product_name, category_id, description, price, stock_quantity) VALUES (?, ?, ?, ?, ?);\",\n",
    "    products_data,\n",
    ")\n",
    "conn.commit()\n",
    "# Assuming product_id is sequential (1-indexed).\n",
    "for i, prod in enumerate(products_data, start=1):\n",
    "    products_list.append({\"product_id\": i, \"price\": prod[3]})\n",
    "\n",
    "#####################################\n",
    "# Populate Orders and Order Items\n",
    "#####################################\n",
    "num_orders = 200\n",
    "orders_data = []\n",
    "order_items_data = []\n",
    "order_totals = {}  # To store computed total for each order.\n",
    "# Insert orders with a temporary total_amount of 0.\n",
    "for _ in range(num_orders):\n",
    "    user_id = random.choice(user_ids)\n",
    "    order_date = fake.date_time_between(start_date=\"-1y\", end_date=\"now\")\n",
    "    # For simplicity, use the user's address (addresses were inserted in order).\n",
    "    shipping_address_id = user_id  \n",
    "    orders_data.append((user_id, order_date, 0.0, shipping_address_id))\n",
    "cursor.executemany(\n",
    "    \"INSERT INTO orders (user_id, order_date, total_amount, shipping_address_id) VALUES (?, ?, ?, ?);\",\n",
    "    orders_data,\n",
    ")\n",
    "conn.commit()\n",
    "\n",
    "# Retrieve orders to generate order items.\n",
    "cursor.execute(\"SELECT order_id, user_id, order_date, shipping_address_id FROM orders;\")\n",
    "orders_records = cursor.fetchall()\n",
    "\n",
    "for order in orders_records:\n",
    "    order_id, user_id, order_date, shipping_address_id = order\n",
    "    num_items = random.randint(1, 5)\n",
    "    total = 0.0\n",
    "    for _ in range(num_items):\n",
    "        product = random.choice(products_list)\n",
    "        product_id = product[\"product_id\"]\n",
    "        unit_price = product[\"price\"]\n",
    "        quantity = random.randint(1, 10)\n",
    "        total += unit_price * quantity\n",
    "        order_items_data.append((order_id, product_id, quantity, unit_price))\n",
    "    order_totals[order_id] = round(total, 2)\n",
    "cursor.executemany(\n",
    "    \"INSERT INTO order_items (order_id, product_id, quantity, unit_price) VALUES (?, ?, ?, ?);\",\n",
    "    order_items_data,\n",
    ")\n",
    "conn.commit()\n",
    "\n",
    "# Update each order with the computed total_amount.\n",
    "for order_id, total in order_totals.items():\n",
    "    cursor.execute(\"UPDATE orders SET total_amount = ? WHERE order_id = ?;\", (total, order_id))\n",
    "conn.commit()\n",
    "\n",
    "#####################################\n",
    "# Populate Payments\n",
    "#####################################\n",
    "payment_methods = [\"Credit Card\", \"PayPal\", \"Debit Card\"]\n",
    "payments_data = []\n",
    "for order in orders_records:\n",
    "    order_id, user_id, order_date, shipping_address_id = order\n",
    "    total = order_totals.get(order_id, 0.0)\n",
    "    payment_date = fake.date_time_between_dates(datetime_start=datetime.strptime(order_date, \"%Y-%m-%d %H:%M:%S\"), datetime_end=datetime.now())\n",
    "    payment_method = random.choice(payment_methods)\n",
    "    status = \"Completed\"\n",
    "    payments_data.append((order_id, payment_date, total, payment_method, status))\n",
    "cursor.executemany(\n",
    "    \"INSERT INTO payments (order_id, payment_date, amount, payment_method, status) VALUES (?, ?, ?, ?, ?);\",\n",
    "    payments_data,\n",
    ")\n",
    "conn.commit()\n",
    "\n",
    "#####################################\n",
    "# Populate Reviews\n",
    "#####################################\n",
    "num_reviews = 300\n",
    "reviews_data = []\n",
    "for _ in range(num_reviews):\n",
    "    user_id = random.choice(user_ids)\n",
    "    product_id = random.randint(1, num_products)\n",
    "    rating = random.randint(1, 5)\n",
    "    comment = fake.sentence(nb_words=12)\n",
    "    review_date = fake.date_time_between(start_date=\"-1y\", end_date=\"now\")\n",
    "    reviews_data.append((user_id, product_id, rating, comment, review_date))\n",
    "cursor.executemany(\n",
    "    \"INSERT INTO reviews (user_id, product_id, rating, comment, review_date) VALUES (?, ?, ?, ?, ?);\",\n",
    "    reviews_data,\n",
    ")\n",
    "conn.commit()\n",
    "\n",
    "print(\"Database populated successfully with Faker data!\")\n",
    "conn.close()"
   ]
  },
  {
   "cell_type": "markdown",
   "metadata": {},
   "source": [
    "# SQL Agent"
   ]
  },
  {
   "cell_type": "code",
   "execution_count": 1,
   "metadata": {},
   "outputs": [],
   "source": [
    "import os\n",
    "from typing import Annotated\n",
    "from typing_extensions import TypedDict\n",
    "from langgraph.graph import StateGraph, START, END\n",
    "from langgraph.graph.message import add_messages\n",
    "from langchain_openai import AzureChatOpenAI"
   ]
  },
  {
   "cell_type": "markdown",
   "metadata": {},
   "source": [
    "## SQL Tools"
   ]
  },
  {
   "cell_type": "code",
   "execution_count": 2,
   "metadata": {},
   "outputs": [],
   "source": [
    "from langchain_community.utilities.sql_database import SQLDatabase"
   ]
  },
  {
   "cell_type": "code",
   "execution_count": 3,
   "metadata": {},
   "outputs": [],
   "source": [
    "# Initalize database \n",
    "db = SQLDatabase.from_uri(\"sqlite:///ecommerce.db\")"
   ]
  },
  {
   "cell_type": "code",
   "execution_count": 4,
   "metadata": {},
   "outputs": [],
   "source": [
    "from langchain_community.tools.sql_database.tool import (\n",
    "    ListSQLDatabaseTool,\n",
    "    QuerySQLCheckerTool,\n",
    "    QuerySQLDatabaseTool,\n",
    "    InfoSQLDatabaseTool\n",
    ")\n",
    "from langgraph.graph import MessagesState\n",
    "from langchain_core.messages.system import SystemMessage"
   ]
  },
  {
   "cell_type": "code",
   "execution_count": 5,
   "metadata": {},
   "outputs": [],
   "source": [
    "sql_llm = AzureChatOpenAI(\n",
    "    api_key=os.environ['AZURE_OPENAI_KEY'],\n",
    "    azure_endpoint=os.environ['AZURE_OPENAI_ENDPOINT'],\n",
    "    azure_deployment=os.environ['AZURE_OPENAI_DEPLOYMENT_ID'],\n",
    "    api_version=os.environ['AZURE_OPENAI_API_VERSION'],\n",
    "    temperature=0,\n",
    "    max_tokens=4096,\n",
    "    timeout=60,\n",
    "    max_retries=2,\n",
    ")"
   ]
  },
  {
   "cell_type": "code",
   "execution_count": 8,
   "metadata": {},
   "outputs": [
    {
     "ename": "ValueError",
     "evalue": "schema must be specified when method is not 'json_mode'. Received None.",
     "output_type": "error",
     "traceback": [
      "\u001b[31m---------------------------------------------------------------------------\u001b[39m",
      "\u001b[31mValueError\u001b[39m                                Traceback (most recent call last)",
      "\u001b[36mCell\u001b[39m\u001b[36m \u001b[39m\u001b[32mIn[8]\u001b[39m\u001b[32m, line 1\u001b[39m\n\u001b[32m----> \u001b[39m\u001b[32m1\u001b[39m \u001b[43msql_llm\u001b[49m\u001b[43m.\u001b[49m\u001b[43mwith_structured_output\u001b[49m\u001b[43m(\u001b[49m\u001b[43m)\u001b[49m\n",
      "\u001b[36mFile \u001b[39m\u001b[32mc:\\Users\\jochua\\agents\\venv\\Lib\\site-packages\\langchain_openai\\chat_models\\azure.py:1064\u001b[39m, in \u001b[36mAzureChatOpenAI.with_structured_output\u001b[39m\u001b[34m(self, schema, method, include_raw, strict, **kwargs)\u001b[39m\n\u001b[32m    748\u001b[39m \u001b[38;5;28;01mdef\u001b[39;00m\u001b[38;5;250m \u001b[39m\u001b[34mwith_structured_output\u001b[39m(\n\u001b[32m    749\u001b[39m     \u001b[38;5;28mself\u001b[39m,\n\u001b[32m    750\u001b[39m     schema: Optional[_DictOrPydanticClass] = \u001b[38;5;28;01mNone\u001b[39;00m,\n\u001b[32m   (...)\u001b[39m\u001b[32m    755\u001b[39m     **kwargs: Any,\n\u001b[32m    756\u001b[39m ) -> Runnable[LanguageModelInput, _DictOrPydantic]:\n\u001b[32m    757\u001b[39m \u001b[38;5;250m    \u001b[39m\u001b[33;03m\"\"\"Model wrapper that returns outputs formatted to match the given schema.\u001b[39;00m\n\u001b[32m    758\u001b[39m \n\u001b[32m    759\u001b[39m \u001b[33;03m    Args:\u001b[39;00m\n\u001b[32m   (...)\u001b[39m\u001b[32m   1062\u001b[39m \u001b[33;03m            # }\u001b[39;00m\n\u001b[32m   1063\u001b[39m \u001b[33;03m    \"\"\"\u001b[39;00m  \u001b[38;5;66;03m# noqa: E501\u001b[39;00m\n\u001b[32m-> \u001b[39m\u001b[32m1064\u001b[39m     \u001b[38;5;28;01mreturn\u001b[39;00m \u001b[38;5;28;43msuper\u001b[39;49m\u001b[43m(\u001b[49m\u001b[43m)\u001b[49m\u001b[43m.\u001b[49m\u001b[43mwith_structured_output\u001b[49m\u001b[43m(\u001b[49m\n\u001b[32m   1065\u001b[39m \u001b[43m        \u001b[49m\u001b[43mschema\u001b[49m\u001b[43m,\u001b[49m\u001b[43m \u001b[49m\u001b[43mmethod\u001b[49m\u001b[43m=\u001b[49m\u001b[43mmethod\u001b[49m\u001b[43m,\u001b[49m\u001b[43m \u001b[49m\u001b[43minclude_raw\u001b[49m\u001b[43m=\u001b[49m\u001b[43minclude_raw\u001b[49m\u001b[43m,\u001b[49m\u001b[43m \u001b[49m\u001b[43mstrict\u001b[49m\u001b[43m=\u001b[49m\u001b[43mstrict\u001b[49m\u001b[43m,\u001b[49m\u001b[43m \u001b[49m\u001b[43m*\u001b[49m\u001b[43m*\u001b[49m\u001b[43mkwargs\u001b[49m\n\u001b[32m   1066\u001b[39m \u001b[43m    \u001b[49m\u001b[43m)\u001b[49m\n",
      "\u001b[36mFile \u001b[39m\u001b[32mc:\\Users\\jochua\\agents\\venv\\Lib\\site-packages\\langchain_openai\\chat_models\\base.py:1442\u001b[39m, in \u001b[36mBaseChatOpenAI.with_structured_output\u001b[39m\u001b[34m(self, schema, method, include_raw, strict, **kwargs)\u001b[39m\n\u001b[32m   1440\u001b[39m \u001b[38;5;28;01melif\u001b[39;00m method == \u001b[33m\"\u001b[39m\u001b[33mjson_schema\u001b[39m\u001b[33m\"\u001b[39m:\n\u001b[32m   1441\u001b[39m     \u001b[38;5;28;01mif\u001b[39;00m schema \u001b[38;5;129;01mis\u001b[39;00m \u001b[38;5;28;01mNone\u001b[39;00m:\n\u001b[32m-> \u001b[39m\u001b[32m1442\u001b[39m         \u001b[38;5;28;01mraise\u001b[39;00m \u001b[38;5;167;01mValueError\u001b[39;00m(\n\u001b[32m   1443\u001b[39m             \u001b[33m\"\u001b[39m\u001b[33mschema must be specified when method is not \u001b[39m\u001b[33m'\u001b[39m\u001b[33mjson_mode\u001b[39m\u001b[33m'\u001b[39m\u001b[33m. \u001b[39m\u001b[33m\"\u001b[39m\n\u001b[32m   1444\u001b[39m             \u001b[33m\"\u001b[39m\u001b[33mReceived None.\u001b[39m\u001b[33m\"\u001b[39m\n\u001b[32m   1445\u001b[39m         )\n\u001b[32m   1446\u001b[39m     response_format = _convert_to_openai_response_format(schema, strict=strict)\n\u001b[32m   1447\u001b[39m     llm = \u001b[38;5;28mself\u001b[39m.bind(\n\u001b[32m   1448\u001b[39m         response_format=response_format,\n\u001b[32m   1449\u001b[39m         structured_output_format={\n\u001b[32m   (...)\u001b[39m\u001b[32m   1452\u001b[39m         },\n\u001b[32m   1453\u001b[39m     )\n",
      "\u001b[31mValueError\u001b[39m: schema must be specified when method is not 'json_mode'. Received None."
     ]
    }
   ],
   "source": [
    "sql_llm.with_structured_output()"
   ]
  },
  {
   "cell_type": "code",
   "execution_count": 10,
   "metadata": {},
   "outputs": [
    {
     "data": {
      "text/plain": [
       "pydantic._internal._model_construction.ModelMetaclass"
      ]
     },
     "execution_count": 10,
     "metadata": {},
     "output_type": "execute_result"
    }
   ],
   "source": [
    "type(type(sql_llm))"
   ]
  },
  {
   "cell_type": "code",
   "execution_count": 158,
   "metadata": {},
   "outputs": [],
   "source": [
    "db_list_tool = ListSQLDatabaseTool(db = db)\n",
    "# step before executing the sql query to make it more accurate\n",
    "db_query_checker_tool = QuerySQLCheckerTool(\n",
    "    db = db,\n",
    "    llm = sql_llm ) # based on this https://patterns.app/blog/2023-01-18-crunchbot-sql-analyst-gpt\n",
    "db_query_tool = QuerySQLDatabaseTool(db = db)\n",
    "db_info_tool = InfoSQLDatabaseTool(db=db)"
   ]
  },
  {
   "cell_type": "code",
   "execution_count": 159,
   "metadata": {},
   "outputs": [],
   "source": [
    "db_info_tool.description = 'Always use this after listing all the possible tables to get the schema and sample rows for the specified sql tables and when facing erros with column names'"
   ]
  },
  {
   "cell_type": "markdown",
   "metadata": {},
   "source": [
    "## agent"
   ]
  },
  {
   "cell_type": "code",
   "execution_count": 160,
   "metadata": {},
   "outputs": [],
   "source": [
    "class State(TypedDict):\n",
    "    # Messages have the type \"list\". The `add_messages` function\n",
    "    # in the annotation defines how this state key should be updated\n",
    "    # (in this case, it appends messages to the list, rather than overwriting them)\n",
    "    messages: Annotated[list, add_messages]  # basically passes the history through\n",
    "\n",
    "graph_builder = StateGraph(MessagesState)\n"
   ]
  },
  {
   "cell_type": "code",
   "execution_count": 161,
   "metadata": {},
   "outputs": [],
   "source": [
    "llm = AzureChatOpenAI(\n",
    "    api_key=os.environ['AZURE_OPENAI_KEY'],\n",
    "    azure_endpoint=os.environ['AZURE_OPENAI_ENDPOINT'],\n",
    "    azure_deployment=os.environ['AZURE_OPENAI_DEPLOYMENT_ID'],\n",
    "    api_version=os.environ['AZURE_OPENAI_API_VERSION'],\n",
    "    temperature=0,\n",
    "    max_tokens=4096,\n",
    "    timeout=60,\n",
    "    max_retries=2,\n",
    ")\n",
    "\n",
    "tools = [db_list_tool, db_query_checker_tool, db_query_tool, db_info_tool]\n",
    "llm = llm.bind_tools(tools)\n",
    "\n",
    "# System message\n",
    "sys_msg = SystemMessage(content=\"\"\"You are a data mapping assistant whose job is to use the database that you are connected to, to match fields with the list of fields in a data set.\n",
    "There are 2 main objectives:\n",
    "1. Match fields, and give a confidence rating of low medium high based on how confident you are that that database table field maps to the given field\n",
    "2. If columns from different data match the same field, convert them same format for example, categories of countries might be (US, EU...) in one but in another it is (America, Europe ...) and numerical value are in the same precision/units.\n",
    "Lastly You are also profficient with SQL allowing you to generate the SQL scripts to give you the final data table.\"\"\")\n",
    "   \n",
    "def chatbot(state: MessagesState):\n",
    "    return {\"messages\": [llm.invoke([sys_msg] + state[\"messages\"])]}"
   ]
  },
  {
   "cell_type": "code",
   "execution_count": 162,
   "metadata": {},
   "outputs": [],
   "source": [
    "import json\n",
    "from langchain_core.messages import ToolMessage\n",
    "class BasicToolNode:\n",
    "    \"\"\"A node that runs the tools requested in the last AIMessage.\"\"\"\n",
    "\n",
    "    def __init__(self, tools: list) -> None:\n",
    "        self.tools_by_name = {tool.name: tool for tool in tools}\n",
    "\n",
    "    def __call__(self, inputs: dict):\n",
    "        if messages := inputs.get(\"messages\", []):\n",
    "            message = messages[-1]\n",
    "        else:\n",
    "            raise ValueError(\"No message found in input\")\n",
    "        outputs = []\n",
    "        for tool_call in message.tool_calls:\n",
    "            tool_result = self.tools_by_name[tool_call[\"name\"]].invoke(\n",
    "                tool_call[\"args\"]\n",
    "            )\n",
    "            outputs.append(\n",
    "                ToolMessage(\n",
    "                    content=json.dumps(tool_result),\n",
    "                    name=tool_call[\"name\"],\n",
    "                    tool_call_id=tool_call[\"id\"],\n",
    "                )\n",
    "            )\n",
    "        return {\"messages\": outputs}"
   ]
  },
  {
   "cell_type": "code",
   "execution_count": 163,
   "metadata": {},
   "outputs": [],
   "source": [
    "sql_list_tables_node = BasicToolNode(tools=[db_list_tool])\n",
    "check_sql_query_node = BasicToolNode(tools=[db_query_checker_tool])\n",
    "sql_query_table_node = BasicToolNode(tools=[db_query_tool])\n",
    "sql_tables_info_node = BasicToolNode(tools=[db_info_tool])"
   ]
  },
  {
   "cell_type": "code",
   "execution_count": 164,
   "metadata": {},
   "outputs": [
    {
     "data": {
      "text/plain": [
       "<langgraph.graph.state.StateGraph at 0x26e980d9fa0>"
      ]
     },
     "execution_count": 164,
     "metadata": {},
     "output_type": "execute_result"
    }
   ],
   "source": [
    "graph_builder.add_node(\"chatbot\", chatbot)\n",
    "graph_builder.add_node(\"sql_list_tables\", sql_list_tables_node)\n",
    "graph_builder.add_node(\"check_sql_query\", check_sql_query_node)\n",
    "graph_builder.add_node(\"sql_query_table\", sql_query_table_node)\n",
    "graph_builder.add_node(\"sql_tables_info\", sql_tables_info_node)"
   ]
  },
  {
   "cell_type": "code",
   "execution_count": 165,
   "metadata": {},
   "outputs": [],
   "source": [
    "def route_tools(\n",
    "    state: State,\n",
    "):\n",
    "    \"\"\"\n",
    "    Use in the conditional_edge to route to the ToolNode if the last message\n",
    "    has tool calls. Otherwise, route to the end.\n",
    "    \"\"\"\n",
    "    if isinstance(state, list):\n",
    "        ai_message = state[-1]\n",
    "    elif messages := state.get(\"messages\", []):\n",
    "        ai_message = messages[-1]\n",
    "    else:\n",
    "        raise ValueError(f\"No messages found in input state to tool_edge: {state}\")\n",
    "    if hasattr(ai_message, \"tool_calls\") and len(ai_message.tool_calls) > 0:\n",
    "        print(\"tool call\", ai_message.tool_calls)\n",
    "        # Process the first tool call from the list\n",
    "        tool_call = ai_message.tool_calls[0]  # Remove the first tool call for processing\n",
    "        tool_name = tool_call.get(\"name\")\n",
    "        if not tool_name:\n",
    "            raise ValueError(\"Tool call does not specify a tool name.\")\n",
    "\n",
    "        tool_routes = {\n",
    "            \"sql_db_query_checker\": \"sql_db_query_checker\",\n",
    "            \"sql_db_list_tables\": \"sql_db_list_tables\",\n",
    "            \"sql_db_query\": \"sql_db_query\",\n",
    "            \"sql_db_schema\": \"sql_db_schema\"\n",
    "        }\n",
    "\n",
    "        if tool_name in tool_routes:\n",
    "            return tool_routes[tool_name]\n",
    "        else:\n",
    "            raise ValueError(f\"Unknown tool name: {tool_name}\")\n",
    "    \n",
    "    # If no more tool calls remain, move to the end node\n",
    "    return END"
   ]
  },
  {
   "cell_type": "code",
   "execution_count": 166,
   "metadata": {},
   "outputs": [
    {
     "data": {
      "text/plain": [
       "<langgraph.graph.state.StateGraph at 0x26e980d9fa0>"
      ]
     },
     "execution_count": 166,
     "metadata": {},
     "output_type": "execute_result"
    }
   ],
   "source": [
    "graph_builder.add_conditional_edges(\n",
    "    \"chatbot\",\n",
    "    route_tools,\n",
    "    # The following dictionary lets you tell the graph to interpret the condition's outputs as a specific node\n",
    "    # It defaults to the identity function, but if you\n",
    "    # want to use a node named something else apart from \"tools\",\n",
    "    # You can update the value of the dictionary to something else\n",
    "    # e.g., \"tools\": \"my_tools\"\n",
    "    {\n",
    "        \"sql_db_query_checker\": \"check_sql_query\",\n",
    "        \"sql_db_list_tables\": \"sql_list_tables\",\n",
    "        \"sql_db_query\": \"sql_query_table\",\n",
    "        \"sql_db_schema\": \"sql_tables_info\",\n",
    "        END: END},\n",
    ") # allows the LLM to either use the tool or exit"
   ]
  },
  {
   "cell_type": "code",
   "execution_count": 167,
   "metadata": {},
   "outputs": [],
   "source": [
    "graph_builder.add_edge(\"check_sql_query\", \"chatbot\")\n",
    "graph_builder.add_edge(\"sql_query_table\", \"chatbot\")\n",
    "graph_builder.add_edge(\"sql_list_tables\", \"chatbot\")\n",
    "graph_builder.add_edge(\"sql_tables_info\", \"chatbot\")\n",
    "graph_builder.add_edge(START, \"chatbot\")\n",
    "graph = graph_builder.compile()"
   ]
  },
  {
   "cell_type": "code",
   "execution_count": 168,
   "metadata": {},
   "outputs": [
    {
     "data": {
      "image/png": "[encoded data removed]",
      "text/plain": [
       "<IPython.core.display.Image object>"
      ]
     },
     "metadata": {},
     "output_type": "display_data"
    }
   ],
   "source": [
    "from IPython.display import Image, display\n",
    "\n",
    "try:\n",
    "    display(Image(graph.get_graph().draw_mermaid_png()))\n",
    "except Exception:\n",
    "    # This requires some extra dependencies and is optional\n",
    "    pass"
   ]
  },
  {
   "cell_type": "code",
   "execution_count": 169,
   "metadata": {},
   "outputs": [],
   "source": [
    "def stream_graph_updates(user_input: str):\n",
    "    for event in graph.stream({\"messages\": [{\"role\": \"user\", \"content\": user_input}]}):\n",
    "        for value in event.values():\n",
    "            print(\"Assistant:\", value[\"messages\"][-1].content)\n",
    "            pass"
   ]
  },
  {
   "cell_type": "code",
   "execution_count": 130,
   "metadata": {},
   "outputs": [
    {
     "name": "stdout",
     "output_type": "stream",
     "text": [
      "Goodbye!\n"
     ]
    }
   ],
   "source": [
    "while True:\n",
    "\n",
    "    user_input = input(\"User: \")\n",
    "    if user_input.lower() in [\"quit\", \"exit\", \"q\"]:\n",
    "        print(\"Goodbye!\")\n",
    "        break\n",
    "\n",
    "    stream_graph_updates(user_input)\n"
   ]
  },
  {
   "cell_type": "code",
   "execution_count": 113,
   "metadata": {},
   "outputs": [
    {
     "name": "stdout",
     "output_type": "stream",
     "text": [
      "tool call [{'name': 'sql_db_list_tables', 'args': {}, 'id': 'call_x0EyPfk3asJSlNf9zybPXn7P', 'type': 'tool_call'}]\n",
      "Assistant: \n",
      "Assistant: \"addresses, categories, order_items, orders, payments, products, reviews, users\"\n",
      "tool call [{'name': 'sql_db_query', 'args': {'query': 'PRAGMA table_info(addresses);'}, 'id': 'call_SK36RcVCX83b3yZKLB9uq76a', 'type': 'tool_call'}, {'name': 'sql_db_query', 'args': {'query': 'PRAGMA table_info(categories);'}, 'id': 'call_iz1X3C4OCeu9x6vn6VQh0JgL', 'type': 'tool_call'}, {'name': 'sql_db_query', 'args': {'query': 'PRAGMA table_info(order_items);'}, 'id': 'call_Hbr6bxCI8h1wld7Bjxy9Xn9D', 'type': 'tool_call'}, {'name': 'sql_db_query', 'args': {'query': 'PRAGMA table_info(orders);'}, 'id': 'call_GUVBxIPPjcSBM2GSyVe23bnL', 'type': 'tool_call'}, {'name': 'sql_db_query', 'args': {'query': 'PRAGMA table_info(payments);'}, 'id': 'call_jACdweDwuDNOoBj7uayxmZGv', 'type': 'tool_call'}, {'name': 'sql_db_query', 'args': {'query': 'PRAGMA table_info(products);'}, 'id': 'call_9zrnzd60RNwK05AR3Ih7OzJY', 'type': 'tool_call'}, {'name': 'sql_db_query', 'args': {'query': 'PRAGMA table_info(reviews);'}, 'id': 'call_sVZO5gkJAN6X7riPTLDQQxF1', 'type': 'tool_call'}, {'name': 'sql_db_query', 'args': {'query': 'PRAGMA table_info(users);'}, 'id': 'call_jEX2aYBOzCKkechhKJO0PVED', 'type': 'tool_call'}]\n",
      "Assistant: \n",
      "Assistant: \"[(0, 'user_id', 'INTEGER', 0, None, 1), (1, 'username', 'TEXT', 1, None, 0), (2, 'email', 'TEXT', 1, None, 0), (3, 'password_hash', 'TEXT', 1, None, 0), (4, 'created_at', 'TIMESTAMP', 0, 'CURRENT_TIMESTAMP', 0)]\"\n",
      "Assistant: Here are the columns for each table in the database:\n",
      "\n",
      "1. **addresses**\n",
      "   - address_id (INTEGER, Primary Key)\n",
      "   - user_id (INTEGER)\n",
      "   - street (TEXT)\n",
      "   - city (TEXT)\n",
      "   - state (TEXT)\n",
      "   - zip_code (TEXT)\n",
      "   - country (TEXT)\n",
      "\n",
      "2. **categories**\n",
      "   - category_id (INTEGER, Primary Key)\n",
      "   - category_name (TEXT, Not Null)\n",
      "   - description (TEXT)\n",
      "\n",
      "3. **order_items**\n",
      "   - order_item_id (INTEGER, Primary Key)\n",
      "   - order_id (INTEGER)\n",
      "   - product_id (INTEGER)\n",
      "   - quantity (INTEGER, Not Null)\n",
      "   - unit_price (REAL, Not Null)\n",
      "\n",
      "4. **orders**\n",
      "   - order_id (INTEGER, Primary Key)\n",
      "   - user_id (INTEGER)\n",
      "   - order_date (TIMESTAMP, Default: CURRENT_TIMESTAMP)\n",
      "   - total_amount (REAL, Not Null)\n",
      "   - shipping_address_id (INTEGER)\n",
      "\n",
      "5. **payments**\n",
      "   - payment_id (INTEGER, Primary Key)\n",
      "   - order_id (INTEGER)\n",
      "   - payment_date (TIMESTAMP, Default: CURRENT_TIMESTAMP)\n",
      "   - amount (REAL, Not Null)\n",
      "   - payment_method (TEXT)\n",
      "   - status (TEXT)\n",
      "\n",
      "6. **products**\n",
      "   - product_id (INTEGER, Primary Key)\n",
      "   - product_name (TEXT, Not Null)\n",
      "   - category_id (INTEGER)\n",
      "   - description (TEXT)\n",
      "   - price (REAL, Not Null)\n",
      "   - stock_quantity (INTEGER, Default: 0)\n",
      "\n",
      "7. **reviews**\n",
      "   - review_id (INTEGER, Primary Key)\n",
      "   - user_id (INTEGER)\n",
      "   - product_id (INTEGER)\n",
      "   - rating (INTEGER)\n",
      "   - comment (TEXT)\n",
      "   - review_date (TIMESTAMP, Default: CURRENT_TIMESTAMP)\n",
      "\n",
      "8. **users**\n",
      "   - user_id (INTEGER, Primary Key)\n",
      "   - username (TEXT, Not Null)\n",
      "   - email (TEXT, Not Null)\n",
      "   - password_hash (TEXT, Not Null)\n",
      "   - created_at (TIMESTAMP, Default: CURRENT_TIMESTAMP)\n"
     ]
    }
   ],
   "source": [
    "stream_graph_updates('what are the columns in the different tables')"
   ]
  },
  {
   "cell_type": "code",
   "execution_count": 142,
   "metadata": {},
   "outputs": [
    {
     "name": "stdout",
     "output_type": "stream",
     "text": [
      "tool call [{'name': 'sql_db_list_tables', 'args': {}, 'id': 'call_JneeBZf7Bja4P1hVRGXT7FRp', 'type': 'tool_call'}]\n",
      "Assistant: \n",
      "Assistant: \"addresses, categories, order_items, orders, payments, products, reviews, users\"\n",
      "tool call [{'name': 'sql_db_query', 'args': {'query': \"SELECT SUM(order_items.price * order_items.quantity) AS total_revenue, DATE_TRUNC('month', orders.order_date) AS month\\nFROM order_items\\nJOIN orders ON order_items.order_id = orders.id\\nJOIN products ON order_items.product_id = products.id\\nJOIN categories ON products.category_id = categories.id\\nWHERE categories.name = 'Electronics'\\nGROUP BY month\\nORDER BY month;\"}, 'id': 'call_uQpVn3WTwK6sQ0NUko60OhwD', 'type': 'tool_call'}, {'name': 'sql_db_query', 'args': {'query': \"SELECT review_text, rating\\nFROM reviews\\nJOIN products ON reviews.product_id = products.id\\nJOIN categories ON products.category_id = categories.id\\nWHERE categories.name = 'Electronics';\"}, 'id': 'call_JiNjo1ePVALuJH6Kfcyyroap', 'type': 'tool_call'}]\n",
      "Assistant: \n",
      "Assistant: \"Error: (sqlite3.OperationalError) no such column: review_text\\n[SQL: SELECT review_text, rating\\nFROM reviews\\nJOIN products ON reviews.product_id = products.id\\nJOIN categories ON products.category_id = categories.id\\nWHERE categories.name = 'Electronics';]\\n(Background on this error at: https://sqlalche.me/e/20/e3q8)\"\n",
      "tool call [{'name': 'sql_db_schema', 'args': {'table_names': 'order_items, orders, products, categories, reviews'}, 'id': 'call_bIBd0V87yuIzl2EkTrFqOXq2', 'type': 'tool_call'}]\n",
      "Assistant: \n",
      "Assistant: \"\\nCREATE TABLE categories (\\n\\tcategory_id INTEGER, \\n\\tcategory_name TEXT NOT NULL, \\n\\tdescription TEXT, \\n\\tPRIMARY KEY (category_id), \\n\\tUNIQUE (category_name)\\n)\\n\\n/*\\n3 rows from categories table:\\ncategory_id\\tcategory_name\\tdescription\\n1\\tElectronics\\tEasy time imagine blood everyone fear ten them success draw game while enter black.\\n2\\tBooks\\tWrong near response foot local school form door bed parent eye probably political.\\n3\\tClothing\\tDiscover body talk wide each along role model let pass market.\\n*/\\n\\n\\nCREATE TABLE order_items (\\n\\torder_item_id INTEGER, \\n\\torder_id INTEGER, \\n\\tproduct_id INTEGER, \\n\\tquantity INTEGER NOT NULL, \\n\\tunit_price REAL NOT NULL, \\n\\tPRIMARY KEY (order_item_id), \\n\\tFOREIGN KEY(order_id) REFERENCES orders (order_id), \\n\\tFOREIGN KEY(product_id) REFERENCES products (product_id)\\n)\\n\\n/*\\n3 rows from order_items table:\\norder_item_id\\torder_id\\tproduct_id\\tquantity\\tunit_price\\n1\\t1\\t15\\t5\\t560.32\\n2\\t1\\t81\\t4\\t1701.03\\n3\\t2\\t48\\t10\\t1798.96\\n*/\\n\\n\\nCREATE TABLE orders (\\n\\torder_id INTEGER, \\n\\tuser_id INTEGER, \\n\\torder_date TIMESTAMP DEFAULT CURRENT_TIMESTAMP, \\n\\ttotal_amount REAL NOT NULL, \\n\\tshipping_address_id INTEGER, \\n\\tPRIMARY KEY (order_id), \\n\\tFOREIGN KEY(user_id) REFERENCES users (user_id), \\n\\tFOREIGN KEY(shipping_address_id) REFERENCES addresses (address_id)\\n)\\n\\n/*\\n3 rows from orders table:\\norder_id\\tuser_id\\torder_date\\ttotal_amount\\tshipping_address_id\\n1\\t30\\t2024-09-09 19:25:37\\t9605.72\\t30\\n2\\t21\\t2024-11-23 05:22:42\\t30823.63\\t21\\n3\\t9\\t2024-03-22 13:58:13\\t22103.08\\t9\\n*/\\n\\n\\nCREATE TABLE products (\\n\\tproduct_id INTEGER, \\n\\tproduct_name TEXT NOT NULL, \\n\\tcategory_id INTEGER, \\n\\tdescription TEXT, \\n\\tprice REAL NOT NULL, \\n\\tstock_quantity INTEGER DEFAULT 0, \\n\\tPRIMARY KEY (product_id), \\n\\tFOREIGN KEY(category_id) REFERENCES categories (category_id)\\n)\\n\\n/*\\n3 rows from products table:\\nproduct_id\\tproduct_name\\tcategory_id\\tdescription\\tprice\\tstock_quantity\\n1\\tFundamental executive open system\\t10\\tTreat region space book instead. Mr wife statement. Stock week home expert ten paper.\\t1343.86\\t40\\n2\\tManaged needs-based artificial intelligence\\t5\\tLikely per bar level class. Former fish goal ago miss. Method reflect paper spring reality its.\\t1538.98\\t31\\n3\\tCustomer-focused homogeneous website\\t7\\tWhite bag that ready law his. Pm debate view money.\\t1846.73\\t16\\n*/\\n\\n\\nCREATE TABLE reviews (\\n\\treview_id INTEGER, \\n\\tuser_id INTEGER, \\n\\tproduct_id INTEGER, \\n\\trating INTEGER, \\n\\tcomment TEXT, \\n\\treview_date TIMESTAMP DEFAULT CURRENT_TIMESTAMP, \\n\\tPRIMARY KEY (review_id), \\n\\tFOREIGN KEY(user_id) REFERENCES users (user_id), \\n\\tFOREIGN KEY(product_id) REFERENCES products (product_id), \\n\\tCHECK (rating >= 1 AND rating <= 5)\\n)\\n\\n/*\\n3 rows from reviews table:\\nreview_id\\tuser_id\\tproduct_id\\trating\\tcomment\\treview_date\\n1\\t16\\t72\\t4\\tGirl race safe here person ball various network notice common.\\t2024-05-09 08:50:16\\n2\\t10\\t69\\t3\\tSeat art tell let mission money single.\\t2024-06-18 06:34:02\\n3\\t3\\t48\\t3\\tEntire growth dog during book control least manage left expect dream simply get.\\t2024-07-05 17:23:55\\n*/\"\n",
      "tool call [{'name': 'sql_db_query', 'args': {'query': \"SELECT SUM(order_items.unit_price * order_items.quantity) AS total_revenue, DATE_TRUNC('month', orders.order_date) AS month\\nFROM order_items\\nJOIN orders ON order_items.order_id = orders.order_id\\nJOIN products ON order_items.product_id = products.product_id\\nJOIN categories ON products.category_id = categories.category_id\\nWHERE categories.category_name = 'Electronics'\\nGROUP BY month\\nORDER BY month;\"}, 'id': 'call_oAQ1CfZgIl33igt5mHyMUgLe', 'type': 'tool_call'}, {'name': 'sql_db_query', 'args': {'query': \"SELECT comment, rating\\nFROM reviews\\nJOIN products ON reviews.product_id = products.product_id\\nJOIN categories ON products.category_id = categories.category_id\\nWHERE categories.category_name = 'Electronics';\"}, 'id': 'call_uS0XJhpirhSm4UMYHK24BJxe', 'type': 'tool_call'}]\n",
      "Assistant: \n",
      "Assistant: \"[('Skin red own though hotel language become nice could window participant subject across.', 2), ('Yeah leg such both safe color trip system nature country age opportunity trade.', 3), ('Arrive cover design without hand prevent during very.', 4), ('Professor among under election benefit husband our it plant result now.', 4), ('Drive modern about detail hope development position yet beat call morning form third size table.', 3), ('Perform would kitchen provide opportunity gun which have must certain eight arrive law through think arrive.', 1), ('Central east accept boy civil record oil.', 1), ('Daughter interesting year check option manager point toward away foreign.', 3), ('Special friend miss talk station physical rather source now whatever live bill attention seem.', 4), ('Natural serious back economic which common win help push because buy information home lot.', 3), ('Two great save into party type media interest act.', 2), ('Outside fund seem young find task summer indicate station quality form especially economic fear note.', 1), ('Cold machine budget least it middle lot newspaper local must left involve rule want wonder.', 5), ('Race bag notice lawyer behavior ago north science see.', 5), ('Whole before data data office around place.', 5), ('Day break keep concern since reality behavior generation I continue.', 5), ('Note hair return test compare wall perhaps police sign name trouble onto everyone.', 3), ('Candidate better them ready add tonight worry finally.', 3), ('Home analysis line government road institution story occur even.', 3), ('Join social smile group note board other cultural house year strategy thus.', 4), ('Do notice rule newspaper year order student be generation phone when call reduce defense.', 5), ('Interview now serve charge sound stay decade college.', 4), ('Involve hair place sometimes recognize Democrat pay since.', 4), ('Board traditional choose never certain general respond shoulder field small sell.', 1), ('State exist conference general human ten address area certain.', 2), ('Physical fly subject way site play cultural camera treat view own.', 5), ('Less small want lot clear after fact once sing.', 3), ('Both social total total use current outside tend girl sport use miss seat herself.', 4), ('Keep high force yourself important sell company.', 1)]\"\n",
      "tool call [{'name': 'sql_db_query_checker', 'args': {'query': \"SELECT SUM(order_items.unit_price * order_items.quantity) AS total_revenue, strftime('%Y-%m', orders.order_date) AS month\\nFROM order_items\\nJOIN orders ON order_items.order_id = orders.order_id\\nJOIN products ON order_items.product_id = products.product_id\\nJOIN categories ON products.category_id = categories.category_id\\nWHERE categories.category_name = 'Electronics'\\nGROUP BY month\\nORDER BY month;\"}, 'id': 'call_qQ2xFq4YwrDK3G9HzIEvUV4R', 'type': 'tool_call'}]\n",
      "Assistant: \n",
      "Assistant: \"```sql\\nSELECT SUM(order_items.unit_price * order_items.quantity) AS total_revenue, strftime('%Y-%m', orders.order_date) AS month\\nFROM order_items\\nJOIN orders ON order_items.order_id = orders.order_id\\nJOIN products ON order_items.product_id = products.product_id\\nJOIN categories ON products.category_id = categories.category_id\\nWHERE categories.category_name = 'Electronics'\\nGROUP BY month\\nORDER BY month;\\n```\"\n",
      "tool call [{'name': 'sql_db_query', 'args': {'query': \"SELECT SUM(order_items.unit_price * order_items.quantity) AS total_revenue, strftime('%Y-%m', orders.order_date) AS month\\nFROM order_items\\nJOIN orders ON order_items.order_id = orders.order_id\\nJOIN products ON order_items.product_id = products.product_id\\nJOIN categories ON products.category_id = categories.category_id\\nWHERE categories.category_name = 'Electronics'\\nGROUP BY month\\nORDER BY month;\"}, 'id': 'call_j92FqZYDZCVGCrr5cbFQFamW', 'type': 'tool_call'}, {'name': 'sql_db_query', 'args': {'query': \"SELECT comment, rating\\nFROM reviews\\nJOIN products ON reviews.product_id = products.product_id\\nJOIN categories ON products.category_id = categories.category_id\\nWHERE categories.category_name = 'Electronics';\"}, 'id': 'call_jKNLmS9bNGKUfZ8Smqw9TDxp', 'type': 'tool_call'}]\n",
      "Assistant: \n",
      "Assistant: \"[('Skin red own though hotel language become nice could window participant subject across.', 2), ('Yeah leg such both safe color trip system nature country age opportunity trade.', 3), ('Arrive cover design without hand prevent during very.', 4), ('Professor among under election benefit husband our it plant result now.', 4), ('Drive modern about detail hope development position yet beat call morning form third size table.', 3), ('Perform would kitchen provide opportunity gun which have must certain eight arrive law through think arrive.', 1), ('Central east accept boy civil record oil.', 1), ('Daughter interesting year check option manager point toward away foreign.', 3), ('Special friend miss talk station physical rather source now whatever live bill attention seem.', 4), ('Natural serious back economic which common win help push because buy information home lot.', 3), ('Two great save into party type media interest act.', 2), ('Outside fund seem young find task summer indicate station quality form especially economic fear note.', 1), ('Cold machine budget least it middle lot newspaper local must left involve rule want wonder.', 5), ('Race bag notice lawyer behavior ago north science see.', 5), ('Whole before data data office around place.', 5), ('Day break keep concern since reality behavior generation I continue.', 5), ('Note hair return test compare wall perhaps police sign name trouble onto everyone.', 3), ('Candidate better them ready add tonight worry finally.', 3), ('Home analysis line government road institution story occur even.', 3), ('Join social smile group note board other cultural house year strategy thus.', 4), ('Do notice rule newspaper year order student be generation phone when call reduce defense.', 5), ('Interview now serve charge sound stay decade college.', 4), ('Involve hair place sometimes recognize Democrat pay since.', 4), ('Board traditional choose never certain general respond shoulder field small sell.', 1), ('State exist conference general human ten address area certain.', 2), ('Physical fly subject way site play cultural camera treat view own.', 5), ('Less small want lot clear after fact once sing.', 3), ('Both social total total use current outside tend girl sport use miss seat herself.', 4), ('Keep high force yourself important sell company.', 1)]\"\n",
      "Assistant: ### Monthly Revenue for Electronics Category\n",
      "\n",
      "The monthly revenue for items in the electronics category is as follows:\n",
      "\n",
      "| Month      | Total Revenue  |\n",
      "|------------|----------------|\n",
      "| 2024-03    | $38,864.37     |\n",
      "| 2024-04    | $26,757.25     |\n",
      "| 2024-05    | $13,681.56     |\n",
      "| 2024-06    | $70,040.69     |\n",
      "| 2024-07    | $32,891.27     |\n",
      "| 2024-08    | $8,395.50      |\n",
      "| 2024-09    | $1,848.20      |\n",
      "| 2024-10    | $26,149.44     |\n",
      "| 2024-11    | $62,435.61     |\n",
      "| 2024-12    | $19,057.55     |\n",
      "| 2025-01    | $29,088.13     |\n",
      "| 2025-02    | $5,545.47      |\n",
      "\n",
      "### Monthly Decrease in Revenue\n",
      "To find the monthly decrease in revenue, we can look at the differences between consecutive months. Here are some notable decreases:\n",
      "\n",
      "- From **April to May**: Decrease of $13,075.69\n",
      "- From **August to September**: Decrease of $6,547.30\n",
      "- From **September to October**: Increase of $24,301.24\n",
      "- From **October to November**: Increase of $36,286.17\n",
      "- From **November to December**: Decrease of $43,378.06\n",
      "- From **January to February**: Decrease of $23,542.66\n",
      "\n",
      "### Possible Reasons for Revenue Decrease\n",
      "Based on the reviews data for electronics, here are some comments and ratings that may provide insights into potential reasons for the revenue decrease:\n",
      "\n",
      "1. **Negative Feedback**:\n",
      "   - \"Perform would kitchen provide opportunity gun which have must certain eight arrive law through think arrive.\" (Rating: 1)\n",
      "   - \"Central east accept boy civil record oil.\" (Rating: 1)\n",
      "   - \"Outside fund seem young find task summer indicate station quality form especially economic fear note.\" (Rating: 1)\n",
      "   - \"Board traditional choose never certain general respond shoulder field small sell.\" (Rating: 1)\n",
      "\n",
      "2. **Mixed Reviews**:\n",
      "   - \"Yeah leg such both safe color trip system nature country age opportunity trade.\" (Rating: 3)\n",
      "   - \"Drive modern about detail hope development position yet beat call morning form third size table.\" (Rating: 3)\n",
      "   - \"Natural serious back economic which common win help push because buy information home lot.\" (Rating: 3)\n",
      "\n",
      "3. **Positive Feedback**:\n",
      "   - \"Cold machine budget least it middle lot newspaper local must left involve rule want wonder.\" (Rating: 5)\n",
      "   - \"Race bag notice lawyer behavior ago north science see.\" (Rating: 5)\n",
      "   - \"Whole before data data office around place.\" (Rating: 5)\n",
      "\n",
      "### Conclusion\n",
      "The revenue for electronics has shown significant fluctuations, with notable decreases in certain months. The reviews indicate a mix of positive and negative feedback, with some customers expressing dissatisfaction, which could be contributing to the decline in revenue. Addressing the concerns raised in the negative reviews may help improve customer satisfaction and potentially increase sales.\n"
     ]
    }
   ],
   "source": [
    "stream_graph_updates('what is the monthly decrease in revenue for items in the electronics category, also find out some possible reasons for it based on the reviews data from the database')"
   ]
  },
  {
   "cell_type": "code",
   "execution_count": 144,
   "metadata": {},
   "outputs": [
    {
     "name": "stdout",
     "output_type": "stream",
     "text": [
      "tool call [{'name': 'sql_db_list_tables', 'args': {}, 'id': 'call_w3aVA0IhieiUTyLPSJnvt7my', 'type': 'tool_call'}]\n",
      "Assistant: \n",
      "Assistant: \"addresses, categories, order_items, orders, payments, products, reviews, users\"\n",
      "tool call [{'name': 'sql_db_schema', 'args': {'table_names': 'categories, products, order_items, orders, payments'}, 'id': 'call_qzLYZPC68mqo870AeNt50Fdn', 'type': 'tool_call'}, {'name': 'sql_db_query_checker', 'args': {'query': \"SELECT SUM(p.price * oi.quantity) AS total_revenue, DATE_TRUNC('month', o.order_date) AS month\\nFROM order_items oi\\nJOIN products p ON oi.product_id = p.id\\nJOIN categories c ON p.category_id = c.id\\nJOIN orders o ON oi.order_id = o.id\\nWHERE c.name = 'Electronics'\\nGROUP BY month\\nORDER BY month;\"}, 'id': 'call_StAlKb0QauAh643jMrlie8GG', 'type': 'tool_call'}, {'name': 'sql_db_query_checker', 'args': {'query': \"SELECT SUM(p.price * oi.quantity) AS total_revenue, DATE_TRUNC('month', o.order_date) AS month\\nFROM order_items oi\\nJOIN products p ON oi.product_id = p.id\\nJOIN categories c ON p.category_id = c.id\\nJOIN orders o ON oi.order_id = o.id\\nWHERE c.name = 'Electronics'\\nGROUP BY month\\nORDER BY month;\"}, 'id': 'call_BPjMF060A0EfAFuVEAkGn3Xn', 'type': 'tool_call'}, {'name': 'sql_db_query_checker', 'args': {'query': \"SELECT DATE_TRUNC('month', o.order_date) AS month, SUM(p.price * oi.quantity) AS total_revenue\\nFROM order_items oi\\nJOIN products p ON oi.product_id = p.id\\nJOIN categories c ON p.category_id = c.id\\nJOIN orders o ON oi.order_id = o.id\\nWHERE c.name = 'Electronics'\\nGROUP BY month\\nORDER BY month;\"}, 'id': 'call_WPKspDtWuEdgnTd3XWeZHk2c', 'type': 'tool_call'}, {'name': 'sql_db_query_checker', 'args': {'query': \"SELECT DATE_TRUNC('month', o.order_date) AS month, SUM(p.price * oi.quantity) AS total_revenue\\nFROM order_items oi\\nJOIN products p ON oi.product_id = p.id\\nJOIN categories c ON p.category_id = c.id\\nJOIN orders o ON oi.order_id = o.id\\nWHERE c.name = 'Electronics'\\nGROUP BY month\\nORDER BY month;\"}, 'id': 'call_hdlLYSTtdSWCfCuwQFVg0lxw', 'type': 'tool_call'}, {'name': 'sql_db_query_checker', 'args': {'query': \"SELECT DATE_TRUNC('month', o.order_date) AS month, SUM(p.price * oi.quantity) AS total_revenue\\nFROM order_items oi\\nJOIN products p ON oi.product_id = p.id\\nJOIN categories c ON p.category_id = c.id\\nJOIN orders o ON oi.order_id = o.id\\nWHERE c.name = 'Electronics'\\nGROUP BY month\\nORDER BY month;\"}, 'id': 'call_8CXNnSLpD1fsutnf3gmtL6TF', 'type': 'tool_call'}, {'name': 'sql_db_query_checker', 'args': {'query': \"SELECT DATE_TRUNC('month', o.order_date) AS month, SUM(p.price * oi.quantity) AS total_revenue\\nFROM order_items oi\\nJOIN products p ON oi.product_id = p.id\\nJOIN categories c ON p.category_id = c.id\\nJOIN orders o ON oi.order_id = o.id\\nWHERE c.name = 'Electronics'\\nGROUP BY month\\nORDER BY month;\"}, 'id': 'call_e4ZhNzcjy7Ny6izfi0itxaNZ', 'type': 'tool_call'}, {'name': 'sql_db_query_checker', 'args': {'query': \"SELECT DATE_TRUNC('month', o.order_date) AS month, SUM(p.price * oi.quantity) AS total_revenue\\nFROM order_items oi\\nJOIN products p ON oi.product_id = p.id\\nJOIN categories c ON p.category_id = c.id\\nJOIN orders o ON oi.order_id = o.id\\nWHERE c.name = 'Electronics'\\nGROUP BY month\\nORDER BY month;\"}, 'id': 'call_ZdYXD5phXSVfjrMM5xgGgvkJ', 'type': 'tool_call'}, {'name': 'sql_db_query_checker', 'args': {'query': \"SELECT DATE_TRUNC('month', o.order_date) AS month, SUM(p.price * oi.quantity) AS total_revenue\\nFROM order_items oi\\nJOIN products p ON oi.product_id = p.id\\nJOIN categories c ON p.category_id = c.id\\nJOIN orders o ON oi.order_id = o.id\\nWHERE c.name = 'Electronics'\\nGROUP BY month\\nORDER BY month;\"}, 'id': 'call_CoCy5B4XDAkIWgeH0vdNHxDy', 'type': 'tool_call'}, {'name': 'sql_db_query_checker', 'args': {'query': \"SELECT DATE_TRUNC('month', o.order_date) AS month, SUM(p.price * oi.quantity) AS total_revenue\\nFROM order_items oi\\nJOIN products p ON oi.product_id = p.id\\nJOIN categories c ON p.category_id = c.id\\nJOIN orders o ON oi.order_id = o.id\\nWHERE c.name = 'Electronics'\\nGROUP BY month\\nORDER BY month;\"}, 'id': 'call_T6oUDks1u6ZBeHPIXz2IOfBz', 'type': 'tool_call'}]\n",
      "Assistant: \n"
     ]
    },
    {
     "ename": "KeyError",
     "evalue": "'sql_db_query_checker'",
     "output_type": "error",
     "traceback": [
      "\u001b[31m---------------------------------------------------------------------------\u001b[39m",
      "\u001b[31mKeyError\u001b[39m                                  Traceback (most recent call last)",
      "\u001b[36mCell\u001b[39m\u001b[36m \u001b[39m\u001b[32mIn[144]\u001b[39m\u001b[32m, line 1\u001b[39m\n\u001b[32m----> \u001b[39m\u001b[32m1\u001b[39m \u001b[43mstream_graph_updates\u001b[49m\u001b[43m(\u001b[49m\u001b[33;43m'\u001b[39;49m\u001b[33;43mwhat is the monthly decrease in revenue for items in the electronics category\u001b[39;49m\u001b[33;43m'\u001b[39;49m\u001b[43m)\u001b[49m\n",
      "\u001b[36mCell\u001b[39m\u001b[36m \u001b[39m\u001b[32mIn[129]\u001b[39m\u001b[32m, line 2\u001b[39m, in \u001b[36mstream_graph_updates\u001b[39m\u001b[34m(user_input)\u001b[39m\n\u001b[32m      1\u001b[39m \u001b[38;5;28;01mdef\u001b[39;00m\u001b[38;5;250m \u001b[39m\u001b[34mstream_graph_updates\u001b[39m(user_input: \u001b[38;5;28mstr\u001b[39m):\n\u001b[32m----> \u001b[39m\u001b[32m2\u001b[39m \u001b[43m    \u001b[49m\u001b[38;5;28;43;01mfor\u001b[39;49;00m\u001b[43m \u001b[49m\u001b[43mevent\u001b[49m\u001b[43m \u001b[49m\u001b[38;5;129;43;01min\u001b[39;49;00m\u001b[43m \u001b[49m\u001b[43mgraph\u001b[49m\u001b[43m.\u001b[49m\u001b[43mstream\u001b[49m\u001b[43m(\u001b[49m\u001b[43m{\u001b[49m\u001b[33;43m\"\u001b[39;49m\u001b[33;43mmessages\u001b[39;49m\u001b[33;43m\"\u001b[39;49m\u001b[43m:\u001b[49m\u001b[43m \u001b[49m\u001b[43m[\u001b[49m\u001b[43m{\u001b[49m\u001b[33;43m\"\u001b[39;49m\u001b[33;43mrole\u001b[39;49m\u001b[33;43m\"\u001b[39;49m\u001b[43m:\u001b[49m\u001b[43m \u001b[49m\u001b[33;43m\"\u001b[39;49m\u001b[33;43muser\u001b[39;49m\u001b[33;43m\"\u001b[39;49m\u001b[43m,\u001b[49m\u001b[43m \u001b[49m\u001b[33;43m\"\u001b[39;49m\u001b[33;43mcontent\u001b[39;49m\u001b[33;43m\"\u001b[39;49m\u001b[43m:\u001b[49m\u001b[43m \u001b[49m\u001b[43muser_input\u001b[49m\u001b[43m}\u001b[49m\u001b[43m]\u001b[49m\u001b[43m}\u001b[49m\u001b[43m)\u001b[49m\u001b[43m:\u001b[49m\n\u001b[32m      3\u001b[39m \u001b[43m        \u001b[49m\u001b[38;5;28;43;01mfor\u001b[39;49;00m\u001b[43m \u001b[49m\u001b[43mvalue\u001b[49m\u001b[43m \u001b[49m\u001b[38;5;129;43;01min\u001b[39;49;00m\u001b[43m \u001b[49m\u001b[43mevent\u001b[49m\u001b[43m.\u001b[49m\u001b[43mvalues\u001b[49m\u001b[43m(\u001b[49m\u001b[43m)\u001b[49m\u001b[43m:\u001b[49m\n\u001b[32m      4\u001b[39m \u001b[43m            \u001b[49m\u001b[38;5;28;43mprint\u001b[39;49m\u001b[43m(\u001b[49m\u001b[33;43m\"\u001b[39;49m\u001b[33;43mAssistant:\u001b[39;49m\u001b[33;43m\"\u001b[39;49m\u001b[43m,\u001b[49m\u001b[43m \u001b[49m\u001b[43mvalue\u001b[49m\u001b[43m[\u001b[49m\u001b[33;43m\"\u001b[39;49m\u001b[33;43mmessages\u001b[39;49m\u001b[33;43m\"\u001b[39;49m\u001b[43m]\u001b[49m\u001b[43m[\u001b[49m\u001b[43m-\u001b[49m\u001b[32;43m1\u001b[39;49m\u001b[43m]\u001b[49m\u001b[43m.\u001b[49m\u001b[43mcontent\u001b[49m\u001b[43m)\u001b[49m\n",
      "\u001b[36mFile \u001b[39m\u001b[32mc:\\Users\\jochua\\agents\\venv\\Lib\\site-packages\\langgraph\\pregel\\__init__.py:2024\u001b[39m, in \u001b[36mPregel.stream\u001b[39m\u001b[34m(self, input, config, stream_mode, output_keys, interrupt_before, interrupt_after, debug, subgraphs)\u001b[39m\n\u001b[32m   2018\u001b[39m     \u001b[38;5;66;03m# Similarly to Bulk Synchronous Parallel / Pregel model\u001b[39;00m\n\u001b[32m   2019\u001b[39m     \u001b[38;5;66;03m# computation proceeds in steps, while there are channel updates.\u001b[39;00m\n\u001b[32m   2020\u001b[39m     \u001b[38;5;66;03m# Channel updates from step N are only visible in step N+1\u001b[39;00m\n\u001b[32m   2021\u001b[39m     \u001b[38;5;66;03m# channels are guaranteed to be immutable for the duration of the step,\u001b[39;00m\n\u001b[32m   2022\u001b[39m     \u001b[38;5;66;03m# with channel updates applied only at the transition between steps.\u001b[39;00m\n\u001b[32m   2023\u001b[39m     \u001b[38;5;28;01mwhile\u001b[39;00m loop.tick(input_keys=\u001b[38;5;28mself\u001b[39m.input_channels):\n\u001b[32m-> \u001b[39m\u001b[32m2024\u001b[39m \u001b[43m        \u001b[49m\u001b[38;5;28;43;01mfor\u001b[39;49;00m\u001b[43m \u001b[49m\u001b[43m_\u001b[49m\u001b[43m \u001b[49m\u001b[38;5;129;43;01min\u001b[39;49;00m\u001b[43m \u001b[49m\u001b[43mrunner\u001b[49m\u001b[43m.\u001b[49m\u001b[43mtick\u001b[49m\u001b[43m(\u001b[49m\n\u001b[32m   2025\u001b[39m \u001b[43m            \u001b[49m\u001b[43mloop\u001b[49m\u001b[43m.\u001b[49m\u001b[43mtasks\u001b[49m\u001b[43m.\u001b[49m\u001b[43mvalues\u001b[49m\u001b[43m(\u001b[49m\u001b[43m)\u001b[49m\u001b[43m,\u001b[49m\n\u001b[32m   2026\u001b[39m \u001b[43m            \u001b[49m\u001b[43mtimeout\u001b[49m\u001b[43m=\u001b[49m\u001b[38;5;28;43mself\u001b[39;49m\u001b[43m.\u001b[49m\u001b[43mstep_timeout\u001b[49m\u001b[43m,\u001b[49m\n\u001b[32m   2027\u001b[39m \u001b[43m            \u001b[49m\u001b[43mretry_policy\u001b[49m\u001b[43m=\u001b[49m\u001b[38;5;28;43mself\u001b[39;49m\u001b[43m.\u001b[49m\u001b[43mretry_policy\u001b[49m\u001b[43m,\u001b[49m\n\u001b[32m   2028\u001b[39m \u001b[43m            \u001b[49m\u001b[43mget_waiter\u001b[49m\u001b[43m=\u001b[49m\u001b[43mget_waiter\u001b[49m\u001b[43m,\u001b[49m\n\u001b[32m   2029\u001b[39m \u001b[43m        \u001b[49m\u001b[43m)\u001b[49m\u001b[43m:\u001b[49m\n\u001b[32m   2030\u001b[39m \u001b[43m            \u001b[49m\u001b[38;5;66;43;03m# emit output\u001b[39;49;00m\n\u001b[32m   2031\u001b[39m \u001b[43m            \u001b[49m\u001b[38;5;28;43;01myield from\u001b[39;49;00m\u001b[43m \u001b[49m\u001b[43moutput\u001b[49m\u001b[43m(\u001b[49m\u001b[43m)\u001b[49m\n\u001b[32m   2032\u001b[39m \u001b[38;5;66;03m# emit output\u001b[39;00m\n",
      "\u001b[36mFile \u001b[39m\u001b[32mc:\\Users\\jochua\\agents\\venv\\Lib\\site-packages\\langgraph\\pregel\\runner.py:230\u001b[39m, in \u001b[36mPregelRunner.tick\u001b[39m\u001b[34m(self, tasks, reraise, timeout, retry_policy, get_waiter)\u001b[39m\n\u001b[32m    228\u001b[39m t = tasks[\u001b[32m0\u001b[39m]\n\u001b[32m    229\u001b[39m \u001b[38;5;28;01mtry\u001b[39;00m:\n\u001b[32m--> \u001b[39m\u001b[32m230\u001b[39m     \u001b[43mrun_with_retry\u001b[49m\u001b[43m(\u001b[49m\n\u001b[32m    231\u001b[39m \u001b[43m        \u001b[49m\u001b[43mt\u001b[49m\u001b[43m,\u001b[49m\n\u001b[32m    232\u001b[39m \u001b[43m        \u001b[49m\u001b[43mretry_policy\u001b[49m\u001b[43m,\u001b[49m\n\u001b[32m    233\u001b[39m \u001b[43m        \u001b[49m\u001b[43mconfigurable\u001b[49m\u001b[43m=\u001b[49m\u001b[43m{\u001b[49m\n\u001b[32m    234\u001b[39m \u001b[43m            \u001b[49m\u001b[43mCONFIG_KEY_SEND\u001b[49m\u001b[43m:\u001b[49m\u001b[43m \u001b[49m\u001b[43mpartial\u001b[49m\u001b[43m(\u001b[49m\u001b[43mwriter\u001b[49m\u001b[43m,\u001b[49m\u001b[43m \u001b[49m\u001b[43mt\u001b[49m\u001b[43m)\u001b[49m\u001b[43m,\u001b[49m\n\u001b[32m    235\u001b[39m \u001b[43m            \u001b[49m\u001b[43mCONFIG_KEY_CALL\u001b[49m\u001b[43m:\u001b[49m\u001b[43m \u001b[49m\u001b[43mpartial\u001b[49m\u001b[43m(\u001b[49m\u001b[43mcall\u001b[49m\u001b[43m,\u001b[49m\u001b[43m \u001b[49m\u001b[43mt\u001b[49m\u001b[43m)\u001b[49m\u001b[43m,\u001b[49m\n\u001b[32m    236\u001b[39m \u001b[43m        \u001b[49m\u001b[43m}\u001b[49m\u001b[43m,\u001b[49m\n\u001b[32m    237\u001b[39m \u001b[43m    \u001b[49m\u001b[43m)\u001b[49m\n\u001b[32m    238\u001b[39m     \u001b[38;5;28mself\u001b[39m.commit(t, \u001b[38;5;28;01mNone\u001b[39;00m)\n\u001b[32m    239\u001b[39m \u001b[38;5;28;01mexcept\u001b[39;00m \u001b[38;5;167;01mException\u001b[39;00m \u001b[38;5;28;01mas\u001b[39;00m exc:\n",
      "\u001b[36mFile \u001b[39m\u001b[32mc:\\Users\\jochua\\agents\\venv\\Lib\\site-packages\\langgraph\\pregel\\retry.py:40\u001b[39m, in \u001b[36mrun_with_retry\u001b[39m\u001b[34m(task, retry_policy, configurable)\u001b[39m\n\u001b[32m     38\u001b[39m     task.writes.clear()\n\u001b[32m     39\u001b[39m     \u001b[38;5;66;03m# run the task\u001b[39;00m\n\u001b[32m---> \u001b[39m\u001b[32m40\u001b[39m     \u001b[38;5;28;01mreturn\u001b[39;00m \u001b[43mtask\u001b[49m\u001b[43m.\u001b[49m\u001b[43mproc\u001b[49m\u001b[43m.\u001b[49m\u001b[43minvoke\u001b[49m\u001b[43m(\u001b[49m\u001b[43mtask\u001b[49m\u001b[43m.\u001b[49m\u001b[43minput\u001b[49m\u001b[43m,\u001b[49m\u001b[43m \u001b[49m\u001b[43mconfig\u001b[49m\u001b[43m)\u001b[49m\n\u001b[32m     41\u001b[39m \u001b[38;5;28;01mexcept\u001b[39;00m ParentCommand \u001b[38;5;28;01mas\u001b[39;00m exc:\n\u001b[32m     42\u001b[39m     ns: \u001b[38;5;28mstr\u001b[39m = config[CONF][CONFIG_KEY_CHECKPOINT_NS]\n",
      "\u001b[36mFile \u001b[39m\u001b[32mc:\\Users\\jochua\\agents\\venv\\Lib\\site-packages\\langgraph\\utils\\runnable.py:546\u001b[39m, in \u001b[36mRunnableSeq.invoke\u001b[39m\u001b[34m(self, input, config, **kwargs)\u001b[39m\n\u001b[32m    542\u001b[39m config = patch_config(\n\u001b[32m    543\u001b[39m     config, callbacks=run_manager.get_child(\u001b[33mf\u001b[39m\u001b[33m\"\u001b[39m\u001b[33mseq:step:\u001b[39m\u001b[38;5;132;01m{\u001b[39;00mi\u001b[38;5;250m \u001b[39m+\u001b[38;5;250m \u001b[39m\u001b[32m1\u001b[39m\u001b[38;5;132;01m}\u001b[39;00m\u001b[33m\"\u001b[39m)\n\u001b[32m    544\u001b[39m )\n\u001b[32m    545\u001b[39m \u001b[38;5;28;01mif\u001b[39;00m i == \u001b[32m0\u001b[39m:\n\u001b[32m--> \u001b[39m\u001b[32m546\u001b[39m     \u001b[38;5;28minput\u001b[39m = \u001b[43mstep\u001b[49m\u001b[43m.\u001b[49m\u001b[43minvoke\u001b[49m\u001b[43m(\u001b[49m\u001b[38;5;28;43minput\u001b[39;49m\u001b[43m,\u001b[49m\u001b[43m \u001b[49m\u001b[43mconfig\u001b[49m\u001b[43m,\u001b[49m\u001b[43m \u001b[49m\u001b[43m*\u001b[49m\u001b[43m*\u001b[49m\u001b[43mkwargs\u001b[49m\u001b[43m)\u001b[49m\n\u001b[32m    547\u001b[39m \u001b[38;5;28;01melse\u001b[39;00m:\n\u001b[32m    548\u001b[39m     \u001b[38;5;28minput\u001b[39m = step.invoke(\u001b[38;5;28minput\u001b[39m, config)\n",
      "\u001b[36mFile \u001b[39m\u001b[32mc:\\Users\\jochua\\agents\\venv\\Lib\\site-packages\\langgraph\\utils\\runnable.py:310\u001b[39m, in \u001b[36mRunnableCallable.invoke\u001b[39m\u001b[34m(self, input, config, **kwargs)\u001b[39m\n\u001b[32m    308\u001b[39m \u001b[38;5;28;01melse\u001b[39;00m:\n\u001b[32m    309\u001b[39m     context.run(_set_config_context, config)\n\u001b[32m--> \u001b[39m\u001b[32m310\u001b[39m     ret = \u001b[43mcontext\u001b[49m\u001b[43m.\u001b[49m\u001b[43mrun\u001b[49m\u001b[43m(\u001b[49m\u001b[38;5;28;43mself\u001b[39;49m\u001b[43m.\u001b[49m\u001b[43mfunc\u001b[49m\u001b[43m,\u001b[49m\u001b[43m \u001b[49m\u001b[43m*\u001b[49m\u001b[43margs\u001b[49m\u001b[43m,\u001b[49m\u001b[43m \u001b[49m\u001b[43m*\u001b[49m\u001b[43m*\u001b[49m\u001b[43mkwargs\u001b[49m\u001b[43m)\u001b[49m\n\u001b[32m    311\u001b[39m \u001b[38;5;28;01mif\u001b[39;00m \u001b[38;5;28misinstance\u001b[39m(ret, Runnable) \u001b[38;5;129;01mand\u001b[39;00m \u001b[38;5;28mself\u001b[39m.recurse:\n\u001b[32m    312\u001b[39m     \u001b[38;5;28;01mreturn\u001b[39;00m ret.invoke(\u001b[38;5;28minput\u001b[39m, config)\n",
      "\u001b[36mCell\u001b[39m\u001b[36m \u001b[39m\u001b[32mIn[122]\u001b[39m\u001b[32m, line 16\u001b[39m, in \u001b[36mBasicToolNode.__call__\u001b[39m\u001b[34m(self, inputs)\u001b[39m\n\u001b[32m     14\u001b[39m outputs = []\n\u001b[32m     15\u001b[39m \u001b[38;5;28;01mfor\u001b[39;00m tool_call \u001b[38;5;129;01min\u001b[39;00m message.tool_calls:\n\u001b[32m---> \u001b[39m\u001b[32m16\u001b[39m     tool_result = \u001b[38;5;28;43mself\u001b[39;49m\u001b[43m.\u001b[49m\u001b[43mtools_by_name\u001b[49m\u001b[43m[\u001b[49m\u001b[43mtool_call\u001b[49m\u001b[43m[\u001b[49m\u001b[33;43m\"\u001b[39;49m\u001b[33;43mname\u001b[39;49m\u001b[33;43m\"\u001b[39;49m\u001b[43m]\u001b[49m\u001b[43m]\u001b[49m.invoke(\n\u001b[32m     17\u001b[39m         tool_call[\u001b[33m\"\u001b[39m\u001b[33margs\u001b[39m\u001b[33m\"\u001b[39m]\n\u001b[32m     18\u001b[39m     )\n\u001b[32m     19\u001b[39m     outputs.append(\n\u001b[32m     20\u001b[39m         ToolMessage(\n\u001b[32m     21\u001b[39m             content=json.dumps(tool_result),\n\u001b[32m   (...)\u001b[39m\u001b[32m     24\u001b[39m         )\n\u001b[32m     25\u001b[39m     )\n\u001b[32m     26\u001b[39m \u001b[38;5;28;01mreturn\u001b[39;00m {\u001b[33m\"\u001b[39m\u001b[33mmessages\u001b[39m\u001b[33m\"\u001b[39m: outputs}\n",
      "\u001b[31mKeyError\u001b[39m: 'sql_db_query_checker'",
      "During task with name 'sql_tables_info' and id 'decf714a-f15d-e6fe-79ba-a643859c71e8'"
     ]
    }
   ],
   "source": [
    "stream_graph_updates('what is the monthly decrease in revenue for items in the electronics category')"
   ]
  },
  {
   "cell_type": "code",
   "execution_count": 170,
   "metadata": {},
   "outputs": [
    {
     "name": "stdout",
     "output_type": "stream",
     "text": [
      "tool call [{'name': 'sql_db_list_tables', 'args': {}, 'id': 'call_byJHRMS12x1zUiZJDp39OVcY', 'type': 'tool_call'}]\n",
      "Assistant: \n",
      "Assistant: \"addresses, categories, order_items, orders, payments, products, reviews, users\"\n",
      "tool call [{'name': 'sql_db_schema', 'args': {'table_names': 'users'}, 'id': 'call_43NjFlgcEX4zHi57aXt5LHSd', 'type': 'tool_call'}, {'name': 'sql_db_schema', 'args': {'table_names': 'orders'}, 'id': 'call_gXM46pM4stJgU7mOSiFtufTY', 'type': 'tool_call'}, {'name': 'sql_db_schema', 'args': {'table_names': 'payments'}, 'id': 'call_9LZqrvh224oL1wI7lKyF28Yh', 'type': 'tool_call'}, {'name': 'sql_db_schema', 'args': {'table_names': 'products'}, 'id': 'call_1NKxAkxPK0YbbE0wwQDJP8FM', 'type': 'tool_call'}]\n",
      "Assistant: \n",
      "Assistant: \"\\nCREATE TABLE products (\\n\\tproduct_id INTEGER, \\n\\tproduct_name TEXT NOT NULL, \\n\\tcategory_id INTEGER, \\n\\tdescription TEXT, \\n\\tprice REAL NOT NULL, \\n\\tstock_quantity INTEGER DEFAULT 0, \\n\\tPRIMARY KEY (product_id), \\n\\tFOREIGN KEY(category_id) REFERENCES categories (category_id)\\n)\\n\\n/*\\n3 rows from products table:\\nproduct_id\\tproduct_name\\tcategory_id\\tdescription\\tprice\\tstock_quantity\\n1\\tFundamental executive open system\\t10\\tTreat region space book instead. Mr wife statement. Stock week home expert ten paper.\\t1343.86\\t40\\n2\\tManaged needs-based artificial intelligence\\t5\\tLikely per bar level class. Former fish goal ago miss. Method reflect paper spring reality its.\\t1538.98\\t31\\n3\\tCustomer-focused homogeneous website\\t7\\tWhite bag that ready law his. Pm debate view money.\\t1846.73\\t16\\n*/\"\n",
      "Assistant: Based on the schema of the relevant tables, here are the mappings for the fields you provided:\n",
      "\n",
      "1. **user id**\n",
      "   - **Mapped Field**: `user_id` from the `users` table\n",
      "   - **Confidence Rating**: High\n",
      "\n",
      "2. **email**\n",
      "   - **Mapped Field**: `email` from the `users` table\n",
      "   - **Confidence Rating**: High\n",
      "\n",
      "3. **most bought product**\n",
      "   - **Mapped Field**: This field is not directly available in the current schema. We can derive it by aggregating the `orders` and `products` tables to find the most frequently purchased product by each user.\n",
      "   - **Confidence Rating**: Medium (requires aggregation)\n",
      "\n",
      "4. **most common payment method**\n",
      "   - **Mapped Field**: `payment_method` from the `payments` table. Similar to the previous field, we can derive this by aggregating the payment methods used by each user.\n",
      "   - **Confidence Rating**: Medium (requires aggregation)\n",
      "\n",
      "### SQL Queries to Derive the Required Fields\n",
      "\n",
      "To get the most bought product and the most common payment method, we can use the following SQL queries:\n",
      "\n",
      "1. **Most Bought Product**:\n",
      "   ```sql\n",
      "   SELECT \n",
      "       o.user_id,\n",
      "       p.product_name,\n",
      "       COUNT(o.order_id) AS purchase_count\n",
      "   FROM \n",
      "       orders o\n",
      "   JOIN \n",
      "       order_items oi ON o.order_id = oi.order_id\n",
      "   JOIN \n",
      "       products p ON oi.product_id = p.product_id\n",
      "   GROUP BY \n",
      "       o.user_id, p.product_name\n",
      "   ORDER BY \n",
      "       purchase_count DESC\n",
      "   ```\n",
      "\n",
      "2. **Most Common Payment Method**:\n",
      "   ```sql\n",
      "   SELECT \n",
      "       p.user_id,\n",
      "       p.payment_method,\n",
      "       COUNT(p.payment_id) AS payment_count\n",
      "   FROM \n",
      "       payments p\n",
      "   JOIN \n",
      "       orders o ON p.order_id = o.order_id\n",
      "   GROUP BY \n",
      "       p.user_id, p.payment_method\n",
      "   ORDER BY \n",
      "       payment_count DESC\n",
      "   ```\n",
      "\n",
      "### Final SQL Query to Combine All Fields\n",
      "\n",
      "To create a final table that includes user id, email, most bought product, and most common payment method, we can use a combination of the above queries. Here’s a simplified version:\n",
      "\n",
      "```sql\n",
      "SELECT \n",
      "    u.user_id,\n",
      "    u.email,\n",
      "    (SELECT product_name \n",
      "     FROM products p \n",
      "     JOIN order_items oi ON p.product_id = oi.product_id \n",
      "     JOIN orders o ON oi.order_id = o.order_id \n",
      "     WHERE o.user_id = u.user_id \n",
      "     GROUP BY p.product_name \n",
      "     ORDER BY COUNT(o.order_id) DESC \n",
      "     LIMIT 1) AS most_bought_product,\n",
      "    (SELECT payment_method \n",
      "     FROM payments p \n",
      "     JOIN orders o ON p.order_id = o.order_id \n",
      "     WHERE o.user_id = u.user_id \n",
      "     GROUP BY p.payment_method \n",
      "     ORDER BY COUNT(p.payment_id) DESC \n",
      "     LIMIT 1) AS most_common_payment_method\n",
      "FROM \n",
      "    users u;\n",
      "```\n",
      "\n",
      "This query will give you a final table with the required fields. Would you like me to check this query for correctness before executing it?\n"
     ]
    }
   ],
   "source": [
    "stream_graph_updates('table field: user id, email, most bought product, most common payment method')"
   ]
  }
 ],
 "metadata": {
  "kernelspec": {
   "display_name": "venv",
   "language": "python",
   "name": "python3"
  },
  "language_info": {
   "codemirror_mode": {
    "name": "ipython",
    "version": 3
   },
   "file_extension": ".py",
   "mimetype": "text/x-python",
   "name": "python",
   "nbconvert_exporter": "python",
   "pygments_lexer": "ipython3",
   "version": "3.12.4"
  }
 },
 "nbformat": 4,
 "nbformat_minor": 2
}
