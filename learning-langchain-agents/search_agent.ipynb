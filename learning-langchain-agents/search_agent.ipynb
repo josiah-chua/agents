{
 "cells": [
  {
   "cell_type": "code",
   "execution_count": 3,
   "metadata": {},
   "outputs": [],
   "source": [
    "from typing import Annotated\n",
    "\n",
    "from typing_extensions import TypedDict\n",
    "\n",
    "from langgraph.graph import StateGraph, START, END\n",
    "from langgraph.graph.message import add_messages"
   ]
  },
  {
   "cell_type": "code",
   "execution_count": 50,
   "metadata": {},
   "outputs": [],
   "source": [
    "class State(TypedDict):\n",
    "    # Messages have the type \"list\". The `add_messages` function\n",
    "    # in the annotation defines how this state key should be updated\n",
    "    # (in this case, it appends messages to the list, rather than overwriting them)\n",
    "    messages: Annotated[list, add_messages]  # basically passes the history through\n",
    "\n",
    "\n",
    "graph_builder = StateGraph(State) "
   ]
  },
  {
   "cell_type": "markdown",
   "metadata": {},
   "source": [
    "## LLM Node"
   ]
  },
  {
   "cell_type": "code",
   "execution_count": 5,
   "metadata": {},
   "outputs": [],
   "source": [
    "import os\n",
    "from langchain_openai import AzureChatOpenAI"
   ]
  },
  {
   "cell_type": "code",
   "execution_count": 6,
   "metadata": {},
   "outputs": [],
   "source": [
    "llm = AzureChatOpenAI(\n",
    "    api_key=os.environ['AZURE_OPENAI_KEY'],\n",
    "    azure_endpoint=os.environ['AZURE_OPENAI_ENDPOINT'],\n",
    "    azure_deployment=os.environ['AZURE_OPENAI_DEPLOYMENT_ID'],\n",
    "    api_version=os.environ['AZURE_OPENAI_API_VERSION'],\n",
    "    temperature=0,\n",
    "    max_tokens=4096,\n",
    "    timeout=10,\n",
    "    max_retries=2,\n",
    ")\n",
    "\n",
    "def chatbot(state: State):\n",
    "    return {\"messages\": [llm.invoke(state[\"messages\"])]}"
   ]
  },
  {
   "cell_type": "code",
   "execution_count": 8,
   "metadata": {},
   "outputs": [
    {
     "data": {
      "text/plain": [
       "<langgraph.graph.state.StateGraph at 0x210c7b74b00>"
      ]
     },
     "execution_count": 8,
     "metadata": {},
     "output_type": "execute_result"
    }
   ],
   "source": [
    "graph_builder.add_node(\"chatbot\", chatbot)"
   ]
  },
  {
   "cell_type": "markdown",
   "metadata": {},
   "source": [
    "## Simple graph"
   ]
  },
  {
   "cell_type": "code",
   "execution_count": 9,
   "metadata": {},
   "outputs": [
    {
     "data": {
      "text/plain": [
       "<langgraph.graph.state.StateGraph at 0x210c7b74b00>"
      ]
     },
     "execution_count": 9,
     "metadata": {},
     "output_type": "execute_result"
    }
   ],
   "source": [
    "graph_builder.add_edge(START, \"chatbot\")"
   ]
  },
  {
   "cell_type": "code",
   "execution_count": 10,
   "metadata": {},
   "outputs": [
    {
     "data": {
      "text/plain": [
       "<langgraph.graph.state.StateGraph at 0x210c7b74b00>"
      ]
     },
     "execution_count": 10,
     "metadata": {},
     "output_type": "execute_result"
    }
   ],
   "source": [
    "graph_builder.add_edge(\"chatbot\", END)"
   ]
  },
  {
   "cell_type": "code",
   "execution_count": 11,
   "metadata": {},
   "outputs": [],
   "source": [
    "graph = graph_builder.compile()"
   ]
  },
  {
   "cell_type": "code",
   "execution_count": 12,
   "metadata": {},
   "outputs": [
    {
     "data": {
      "image/png": "[encoded data removed]",
      "text/plain": [
       "<IPython.core.display.Image object>"
      ]
     },
     "metadata": {},
     "output_type": "display_data"
    }
   ],
   "source": [
    "from IPython.display import Image, display\n",
    "\n",
    "try:\n",
    "    display(Image(graph.get_graph().draw_mermaid_png()))\n",
    "except Exception:\n",
    "    pass"
   ]
  },
  {
   "cell_type": "code",
   "execution_count": 13,
   "metadata": {},
   "outputs": [],
   "source": [
    "def stream_graph_updates(user_input: str):\n",
    "    for event in graph.stream({\"messages\": [{\"role\": \"user\", \"content\": user_input}]}):\n",
    "        for value in event.values():\n",
    "            print(\"Assistant:\", value[\"messages\"][-1].content)"
   ]
  },
  {
   "cell_type": "code",
   "execution_count": null,
   "metadata": {},
   "outputs": [],
   "source": [
    "while True:\n",
    "    try:\n",
    "        user_input = input(\"User: \")\n",
    "        if user_input.lower() in [\"quit\", \"exit\", \"q\"]:\n",
    "            print(\"Goodbye!\")\n",
    "            break\n",
    "\n",
    "        stream_graph_updates(user_input)\n",
    "    except:\n",
    "        # fallback if input() is not available\n",
    "        user_input = \"What do you know about LangGraph?\"\n",
    "        print(\"User: \" + user_input)\n",
    "        stream_graph_updates(user_input)\n",
    "        break"
   ]
  },
  {
   "cell_type": "markdown",
   "metadata": {},
   "source": [
    "## Questions\n",
    "* how do I change the system prompt"
   ]
  },
  {
   "cell_type": "markdown",
   "metadata": {},
   "source": [
    "## Search tool"
   ]
  },
  {
   "cell_type": "code",
   "execution_count": 32,
   "metadata": {},
   "outputs": [],
   "source": [
    "from langchain_community.tools import DuckDuckGoSearchResults\n",
    "from langchain_community.utilities.duckduckgo_search import DuckDuckGoSearchAPIWrapper"
   ]
  },
  {
   "cell_type": "code",
   "execution_count": 34,
   "metadata": {},
   "outputs": [],
   "source": [
    "\"\"\"\n",
    "    region: See https://pypi.org/project/duckduckgo-search/#regions\n",
    "    safesearch: strict, moderate, off\n",
    "    time: d, w, m, y\n",
    "    backend: auto, html, lite\n",
    "    source: text, news, images\n",
    "\"\"\"\n",
    "\n",
    "\n",
    "ddg_api_wrapper = DuckDuckGoSearchAPIWrapper(\n",
    "    region=\"wt-wt\",\n",
    "    safesearch=\"moderate\",\n",
    "    time='2024-01-01..2025-01-01',\n",
    "    max_results = 5,\n",
    "    backend = \"auto\",\n",
    "    source = \"news\",\n",
    ")\n",
    "\n",
    "tool_description = \"\"\"'A wrapper around Duck Duck Go Search. Useful for when you need to answer questions about current events. Input should be a search query.\"\"\"\n",
    "\n",
    "search_tool = DuckDuckGoSearchResults(\n",
    "    api_wrapper = ddg_api_wrapper,\n",
    "    description = tool_description,\n",
    "    max_results = '5', # overrides the api wrapper arguments FYI\n",
    "    backend = 'news', # overrides the api wrapper arguments FYI\n",
    "    output_format=\"list\",\n",
    ")"
   ]
  },
  {
   "cell_type": "code",
   "execution_count": 35,
   "metadata": {},
   "outputs": [
    {
     "data": {
      "text/plain": [
       "[{'snippet': 'Ben Stiller asked Barack Obama to make a cameo in season 2 of \"Severance,\" and he got a quick reply from the former president',\n",
       "  'title': \"Ben Stiller offered Barack Obama a cameo in 'Severance'\",\n",
       "  'link': 'https://www.nj.com/tv/2025/03/ben-stiller-offered-barack-obama-a-cameo-in-severance.html',\n",
       "  'date': '2025-03-05T22:05:00+00:00',\n",
       "  'source': 'NJ.com'},\n",
       " {'snippet': '(CNN) - The second season of Apple TV\\'s popular show \"Severance\" came close to having a presidential cameo. Ben Stiller, who is an executive producer and director on the show, revealed to Jimmy Kimmel that he asked former President Barack Obama to appear on the show. Stiller said the role would have been the voice of the Lumon building.',\n",
       "  'title': \"Former President Barack Obama turned down role in 'Severance'\",\n",
       "  'link': 'https://www.wabi.tv/2025/03/06/former-president-barack-obama-turned-down-role-severance/',\n",
       "  'date': '2025-03-06T05:03:00+00:00',\n",
       "  'source': 'WABI-TV'},\n",
       " {'snippet': 'The clash between President Donald Trump and Ukrainian President Volodmyr Zelenskyy has led analysts to recall the treatment meted out by the Obama and Biden administrations against Israeli Prime Minister Benjamin Netanyahu.',\n",
       "  'title': \"Trump's row with Zelenskyy recalls Obama, Biden humiliations of Netanyahu\",\n",
       "  'link': 'https://www.msn.com/en-us/news/world/trump-s-row-with-zelenskyy-recalls-obama-biden-humiliations-of-netanyahu/ar-AA1A99II',\n",
       "  'date': '2025-03-03T14:09:00+00:00',\n",
       "  'source': 'FOX News'},\n",
       " {'snippet': 'Ben Stiller revealed on Jimmy Kimmel Live yesterday (March 4) that he offered Obama an uncredited cameo — a voice-over role in the animated version of the Lumon administrative building — but that he politely declined the offer.',\n",
       "  'title': \"Barack Obama Turned Down A Role In 'Severance' — But A Famous Actor Filled It Instead\",\n",
       "  'link': 'https://decider.com/2025/03/05/severance-obama-turned-down-role/',\n",
       "  'date': '2025-03-05T18:23:00+00:00',\n",
       "  'source': 'Decider'}]"
      ]
     },
     "execution_count": 35,
     "metadata": {},
     "output_type": "execute_result"
    }
   ],
   "source": [
    "search_tool.invoke(\"Obama\")"
   ]
  },
  {
   "cell_type": "markdown",
   "metadata": {},
   "source": [
    "## Agent with tool"
   ]
  },
  {
   "cell_type": "code",
   "execution_count": 51,
   "metadata": {},
   "outputs": [],
   "source": [
    "import json\n",
    "from langchain_core.messages import ToolMessage"
   ]
  },
  {
   "cell_type": "code",
   "execution_count": 52,
   "metadata": {},
   "outputs": [],
   "source": [
    "llm = AzureChatOpenAI(\n",
    "    api_key=os.environ['AZURE_OPENAI_KEY'],\n",
    "    azure_endpoint=os.environ['AZURE_OPENAI_ENDPOINT'],\n",
    "    azure_deployment=os.environ['AZURE_OPENAI_DEPLOYMENT_ID'],\n",
    "    api_version=os.environ['AZURE_OPENAI_API_VERSION'],\n",
    "    temperature=0,\n",
    "    max_tokens=4096,\n",
    "    timeout=10,\n",
    "    max_retries=2,\n",
    ")\n",
    "\n",
    "tools = [search_tool] # bind all tools that LLM can access here\n",
    "llm_with_tools = llm.bind_tools(tools) # bind so that LLM knows how to generate the tool call\n",
    "\n",
    "def chatbot(state: State):\n",
    "    return {\"messages\": [llm_with_tools.invoke(state[\"messages\"])]}"
   ]
  },
  {
   "cell_type": "code",
   "execution_count": 53,
   "metadata": {},
   "outputs": [],
   "source": [
    "# Allows for multiple tools so that one/more toolls can be selected and ran\n",
    "\n",
    "class BasicToolNode:\n",
    "    \"\"\"A node that runs the tools requested in the last AIMessage.\"\"\"\n",
    "\n",
    "    def __init__(self, tools: list) -> None:\n",
    "        self.tools_by_name = {tool.name: tool for tool in tools}\n",
    "\n",
    "    def __call__(self, inputs: dict):\n",
    "        if messages := inputs.get(\"messages\", []):\n",
    "            message = messages[-1]\n",
    "        else:\n",
    "            raise ValueError(\"No message found in input\")\n",
    "        outputs = []\n",
    "        for tool_call in message.tool_calls:\n",
    "            tool_result = self.tools_by_name[tool_call[\"name\"]].invoke(\n",
    "                tool_call[\"args\"]\n",
    "            )\n",
    "            outputs.append(\n",
    "                ToolMessage(\n",
    "                    content=json.dumps(tool_result),\n",
    "                    name=tool_call[\"name\"],\n",
    "                    tool_call_id=tool_call[\"id\"],\n",
    "                )\n",
    "            )\n",
    "        return {\"messages\": outputs}"
   ]
  },
  {
   "cell_type": "code",
   "execution_count": 54,
   "metadata": {},
   "outputs": [],
   "source": [
    "search_tool_node = BasicToolNode(tools=[search_tool])"
   ]
  },
  {
   "cell_type": "code",
   "execution_count": 55,
   "metadata": {},
   "outputs": [
    {
     "data": {
      "text/plain": [
       "<langgraph.graph.state.StateGraph at 0x210c82016d0>"
      ]
     },
     "execution_count": 55,
     "metadata": {},
     "output_type": "execute_result"
    }
   ],
   "source": [
    "graph_builder.add_node(\"chatbot\", chatbot)\n",
    "graph_builder.add_node(\"search_tool\", search_tool_node)"
   ]
  },
  {
   "cell_type": "code",
   "execution_count": 56,
   "metadata": {},
   "outputs": [],
   "source": [
    "def route_tools(\n",
    "    state: State,\n",
    "):\n",
    "    \"\"\"\n",
    "    Use in the conditional_edge to route to the ToolNode if the last message\n",
    "    has tool calls. Otherwise, route to the end.\n",
    "    \"\"\"\n",
    "    if isinstance(state, list):\n",
    "        ai_message = state[-1]\n",
    "    elif messages := state.get(\"messages\", []):\n",
    "        ai_message = messages[-1]\n",
    "    else:\n",
    "        raise ValueError(f\"No messages found in input state to tool_edge: {state}\")\n",
    "    if hasattr(ai_message, \"tool_calls\") and len(ai_message.tool_calls) > 0:\n",
    "        return \"tools\" # doenst have to same name given to your tools cos you can map it in the edges\n",
    "    return END"
   ]
  },
  {
   "cell_type": "code",
   "execution_count": 57,
   "metadata": {},
   "outputs": [],
   "source": [
    "graph_builder.add_conditional_edges(\n",
    "    \"chatbot\",\n",
    "    route_tools,\n",
    "    # The following dictionary lets you tell the graph to interpret the condition's outputs as a specific node\n",
    "    # It defaults to the identity function, but if you\n",
    "    # want to use a node named something else apart from \"tools\",\n",
    "    # You can update the value of the dictionary to something else\n",
    "    # e.g., \"tools\": \"my_tools\"\n",
    "    {\"tools\": \"search_tool\", END: END},\n",
    ") # allows the LLM to either use the tool or exit\n",
    "\n",
    "graph_builder.add_edge(\"search_tool\", \"chatbot\") # allows the tool to feedback to the LLM\n",
    "graph_builder.add_edge(START, \"chatbot\")\n",
    "graph = graph_builder.compile()"
   ]
  },
  {
   "cell_type": "code",
   "execution_count": 58,
   "metadata": {},
   "outputs": [
    {
     "data": {
      "image/png": "[encoded data removed]",
      "text/plain": [
       "<IPython.core.display.Image object>"
      ]
     },
     "metadata": {},
     "output_type": "display_data"
    }
   ],
   "source": [
    "from IPython.display import Image, display\n",
    "\n",
    "try:\n",
    "    display(Image(graph.get_graph().draw_mermaid_png()))\n",
    "except Exception:\n",
    "    # This requires some extra dependencies and is optional\n",
    "    pass"
   ]
  },
  {
   "cell_type": "code",
   "execution_count": 59,
   "metadata": {},
   "outputs": [
    {
     "name": "stdout",
     "output_type": "stream",
     "text": [
      "Assistant: \n",
      "Assistant: [{\"snippet\": \"Cleveland defeated Boston last weekend to regain the top spot in these power rankings. With around 20 games remaining, teams are preparing for a playoff push or stepping up their tanking efforts. 1. Cleveland Cavaliers (51-10,\", \"title\": \"NBA power rankings 2024-25: Cavaliers retake top spot in rankings, Pistons move into top 10\", \"link\": \"https://www.msn.com/en-us/sports/nba/nba-power-rankings-2024-25-cavaliers-retake-top-spot-in-rankings-pistons-move-into-top-10/ar-AA1waORq\", \"date\": \"2025-03-05T22:54:00+00:00\", \"source\": \"NBC Sports\"}, {\"snippet\": \"The NBA announced today its monthly player awards for February. This includes the NBA Defensive Player of the Month, Player of the Month and Rookie of the Month after the league named its coaches of the month on Monday.\", \"title\": \"NBA Announces 2024-25 February Rookie of the Month Award\", \"link\": \"https://www.msn.com/en-us/sports/other/nba-announces-2024-25-february-rookie-of-the-month-award/ar-AA1Agt1l\", \"date\": \"2025-03-05T03:39:00+00:00\", \"source\": \"MSN\"}, {\"snippet\": \"Copyright \\u00a9 2025 Bleacher Report, Inc. A Warner Bros. Discovery Company. All Rights Reserved.\", \"title\": \"Adrian Wojnarowski's iPhones Used to Break NBA News Sell for $12.7K at Auction\", \"link\": \"https://bleacherreport.com/articles/25167116-adrian-wojnarowskis-iphones-used-break-nba-news-sell-127k-auction\", \"date\": \"2025-03-05T16:54:00+00:00\", \"source\": \"Bleacher Report\"}, {\"snippet\": \"Check out all of the latest NBA news and analysis. Keep up with today's NBA action on FOX Sports. # Team Points Allowed Avg. Points Allowed per 100 Poss. 1 Magic 105.7 106.9 2 Thunder 107.0 104.1 ...\", \"title\": \"2024-25 NBA Defensive Rating: Team Defense Rankings and Efficiency Stats\", \"link\": \"https://www.foxsports.com/articles/nba/2024-25-nba-defensive-rating-team-defense-rankings-and-efficiency-stats\", \"date\": \"2025-03-04T10:28:00+00:00\", \"source\": \"Fox Sports\"}]\n",
      "Assistant: Here are some major NBA news stories from 2024:\n",
      "\n",
      "1. **Cleveland Cavaliers' Dominance**: The Cleveland Cavaliers recently defeated the Boston Celtics, regaining the top spot in the power rankings with a record of 51-10. As the season approaches the playoffs, teams are either pushing for playoff positions or focusing on rebuilding efforts. [Read more here](https://www.msn.com/en-us/sports/nba/nba-power-rankings-2024-25-cavaliers-retake-top-spot-in-rankings-pistons-move-into-top-10/ar-AA1waORq).\n",
      "\n",
      "2. **Monthly Player Awards**: The NBA announced its monthly player awards for February, which include the Defensive Player of the Month, Player of the Month, and Rookie of the Month. This follows the announcement of the coaches of the month. [More details here](https://www.msn.com/en-us/sports/other/nba-announces-2024-25-february-rookie-of-the-month-award/ar-AA1Agt1l).\n",
      "\n",
      "3. **Auction of Wojnarowski's iPhones**: Adrian Wojnarowski's iPhones, which were used to break significant NBA news, were sold at auction for $12.7K. This highlights the impact of Wojnarowski in the sports journalism field. [Find out more here](https://bleacherreport.com/articles/25167116-adrian-wojnarowskis-iphones-used-break-nba-news-sell-127k-auction).\n",
      "\n",
      "4. **Defensive Ratings**: The latest NBA defensive ratings have been released, showcasing team defense rankings and efficiency stats. The Orlando Magic and Oklahoma City Thunder are among the top teams in terms of points allowed. [Check the stats here](https://www.foxsports.com/articles/nba/2024-25-nba-defensive-rating-team-defense-rankings-and-efficiency-stats).\n",
      "\n",
      "These stories reflect the current state of the NBA as it heads towards the playoffs and highlights key performances and events in the league.\n",
      "Assistant: \n",
      "Assistant: [{\"snippet\": \"Wall Street's main indexes finished higher in choppy trading on Wednesday, as investors cheered the likely easing of trade tensions between the U.S. and major trading partners.\", \"title\": \"Wall Street ends higher as markets eye easing of trade tensions\", \"link\": \"https://www.reuters.com/markets/us/futures-bounce-back-after-trump-official-hints-potential-tariff-relief-2025-03-05/\", \"date\": \"2025-03-05T22:26:00+00:00\", \"source\": \"Reuters\"}, {\"snippet\": \"You know something is a hot topic of discussion when a CEO thanks a Wall Street analyst for asking a question that isn't about tariffs.\", \"title\": \"Business leaders weigh in on Trump's trade war: 'We've never seen this kind of breadth of tariffs'\", \"link\": \"https://www.businessinsider.com/ceo-business-leaders-reaction-trump-tariffs-trade-war-2025-3\", \"date\": \"2025-03-05T18:46:00+00:00\", \"source\": \"Business Insider\"}, {\"snippet\": \"The Lighting paid a steep price -- two first-round picks -- for Gourde and Bjorkstrand but they're two players who should fit in perfectly.\", \"title\": \"NHL trade grades: Lightning go all in for Yanni Gourde and Oliver Bjorkstrand\", \"link\": \"https://www.nytimes.com/athletic/6178296/2025/03/05/nhl-trade-grades-lightning-kraken-yanni-gourde-oliver-bjorkstrand/\", \"date\": \"2025-03-05T21:13:00+00:00\", \"source\": \"The New York Times\"}, {\"snippet\": \"The Athletic has live coverage of the 2025 NHL trade deadline Penguins get: Forward Tommy Novak, Defenseman Luke Schenn Predators get: Forward Michael Bunting, fourth-round pick in 2026 Sean Gentille: Tommy Novak is the best player involved in this deal.\", \"title\": \"NHL trade grades: Penguins, Predators pair up for puzzling deal\", \"link\": \"https://www.nytimes.com/athletic/6179164/2025/03/05/nhl-trade-grades-penguins-predators-novak-bunting/\", \"date\": \"2025-03-06T02:47:00+00:00\", \"source\": \"The New York Times\"}]\n",
      "Assistant: Here are some recent articles related to trade news:\n",
      "\n",
      "1. **Wall Street ends higher as markets eye easing of trade tensions**  \n",
      "   *Snippet:* Wall Street's main indexes finished higher in choppy trading on Wednesday, as investors cheered the likely easing of trade tensions between the U.S. and major trading partners.  \n",
      "   *Source:* [Reuters](https://www.reuters.com/markets/us/futures-bounce-back-after-trump-official-hints-potential-tariff-relief-2025-03-05/)  \n",
      "   *Date:* March 5, 2025\n",
      "\n",
      "2. **Business leaders weigh in on Trump's trade war: 'We've never seen this kind of breadth of tariffs'**  \n",
      "   *Snippet:* You know something is a hot topic of discussion when a CEO thanks a Wall Street analyst for asking a question that isn't about tariffs.  \n",
      "   *Source:* [Business Insider](https://www.businessinsider.com/ceo-business-leaders-reaction-trump-tariffs-trade-war-2025-3)  \n",
      "   *Date:* March 5, 2025\n",
      "\n",
      "3. **NHL trade grades: Lightning go all in for Yanni Gourde and Oliver Bjorkstrand**  \n",
      "   *Snippet:* The Lighting paid a steep price -- two first-round picks -- for Gourde and Bjorkstrand but they're two players who should fit in perfectly.  \n",
      "   *Source:* [The New York Times](https://www.nytimes.com/athletic/6178296/2025/03/05/nhl-trade-grades-lightning-kraken-yanni-gourde-oliver-bjorkstrand/)  \n",
      "   *Date:* March 5, 2025\n",
      "\n",
      "4. **NHL trade grades: Penguins, Predators pair up for puzzling deal**  \n",
      "   *Snippet:* The Athletic has live coverage of the 2025 NHL trade deadline Penguins get: Forward Tommy Novak, Defenseman Luke Schenn Predators get: Forward Michael Bunting, fourth-round pick in 2026 Sean Gentille: Tommy Novak is the best player involved in this deal.  \n",
      "   *Source:* [The New York Times](https://www.nytimes.com/athletic/6179164/2025/03/05/nhl-trade-grades-penguins-predators-novak-bunting/)  \n",
      "   *Date:* March 6, 2025\n",
      "\n",
      "Let me know if you need more information on any specific topic!\n",
      "Assistant: \n",
      "Assistant: [{\"snippet\": \"The Mavericks and Warriors are going to have trouble signing players on the buyout market because they're close to the first apron. This means that teams with a payroll more than\", \"title\": \"31 buyout candidates (Ben Simmons?) and where they landed after the NBA trade deadline\", \"link\": \"https://www.msn.com/en-us/sports/other/31-buyout-candidates-ben-simmons-and-where-they-landed-after-the-nba-trade-deadline/ar-AA1yy16W\", \"date\": \"2025-03-04T15:31:00+00:00\", \"source\": \"MSN\"}, {\"snippet\": \"It also appears that reports of LA's hapless defense may have been exaggerated. Since trading Anthony Davis, this team has actually gotten better on that end. Since All-Star, the Lakers have the No. 1 defense in the NBA.\", \"title\": \"NBA Pacific Division Power Rankings: Luka and LeBron give Lakers new life\", \"link\": \"https://www.msn.com/en-us/sports/nba/nba-pacific-division-power-rankings-luka-and-lebron-give-lakers-new-life/ar-AA1Aksjj\", \"date\": \"2025-03-06T05:20:00+00:00\", \"source\": \"FanSided\"}, {\"snippet\": \"The team's bold trade for Kevin Durant hours after Mat Ishbia gained control of the franchise has been an unmitigated disaster, and now the worst kept secret in the NBA is that Durant will again be on the trade block when this season mercifully ends for the Suns.\", \"title\": \"5 Kevin Durant trade destinations that make sense for NBA's next summer blockbuster, ranked\", \"link\": \"https://www.msn.com/en-in/sports/nba/5-kevin-durant-trade-destinations-that-make-sense-for-nba-s-next-summer-blockbuster-ranked/ar-AA1AaasC\", \"date\": \"2025-03-03T17:57:00+00:00\", \"source\": \"MSN\"}, {\"snippet\": \"An NBA insider has urged the Dallas Mavericks to trade Anthony Davis this summer, believing that the franchise's championship window has already closed\", \"title\": \"NBA Insider Urges Dallas Mavericks To Trade Anthony Davis This Summer\", \"link\": \"https://www.msn.com/en-us/sports/nba/nba-insider-urges-dallas-mavericks-to-trade-anthony-davis-this-summer/ar-AA1AkbH8\", \"date\": \"2025-03-05T19:21:00+00:00\", \"source\": \"Fadeaway World\"}]\n",
      "Assistant: Here are some recent NBA trade news highlights:\n",
      "\n",
      "1. **Buyout Market Challenges**: The Mavericks and Warriors are facing difficulties in signing players on the buyout market due to their proximity to the first apron. [Read more here](https://www.msn.com/en-us/sports/other/31-buyout-candidates-ben-simmons-and-where-they-landed-after-the-nba-trade-deadline/ar-AA1yy16W).\n",
      "\n",
      "2. **Lakers' Defensive Improvement**: Following the trade of Anthony Davis, the Lakers have reportedly improved their defense, now ranking as the No. 1 defense in the NBA since the All-Star break. [Read more here](https://www.msn.com/en-us/sports/nba/nba-pacific-division-power-rankings-luka-and-lebron-give-lakers-new-life/ar-AA1Aksjj).\n",
      "\n",
      "3. **Kevin Durant's Future**: There are speculations that Kevin Durant will be on the trade block again after a disappointing season for the Suns, following a bold trade that has not paid off. [Read more here](https://www.msn.com/en-in/sports/nba/5-kevin-durant-trade-destinations-that-make-sense-for-nba-s-next-summer-blockbuster-ranked/ar-AA1AaasC).\n",
      "\n",
      "4. **Mavericks Considering Anthony Davis Trade**: An NBA insider has suggested that the Dallas Mavericks should consider trading Anthony Davis this summer, as they believe the franchise's championship window may have closed. [Read more here](https://www.msn.com/en-us/sports/nba/nba-insider-urges-dallas-mavericks-to-trade-anthony-davis-this-summer/ar-AA1AkbH8).\n",
      "\n",
      "Feel free to ask if you need more details on any specific topic!\n",
      "Assistant: It seems there might be a misunderstanding. I currently don't have access to information from 2025 or beyond, as my training only includes data up to October 2023. If you have specific news or events from 2024 that you would like to know about, please let me know, and I can help you find that information!\n",
      "Assistant: Hello! How can I assist you today?\n",
      "Goodbye!\n"
     ]
    }
   ],
   "source": [
    "while True:\n",
    "    try:\n",
    "        user_input = input(\"User: \")\n",
    "        if user_input.lower() in [\"quit\", \"exit\", \"q\"]:\n",
    "            print(\"Goodbye!\")\n",
    "            break\n",
    "\n",
    "        stream_graph_updates(user_input)\n",
    "    except:\n",
    "        # fallback if input() is not available\n",
    "        user_input = \"What do you know about LangGraph?\"\n",
    "        print(\"User: \" + user_input)\n",
    "        stream_graph_updates(user_input)\n",
    "        break"
   ]
  },
  {
   "cell_type": "code",
   "execution_count": null,
   "metadata": {},
   "outputs": [],
   "source": []
  }
 ],
 "metadata": {
  "kernelspec": {
   "display_name": "venv",
   "language": "python",
   "name": "python3"
  },
  "language_info": {
   "codemirror_mode": {
    "name": "ipython",
    "version": 3
   },
   "file_extension": ".py",
   "mimetype": "text/x-python",
   "name": "python",
   "nbconvert_exporter": "python",
   "pygments_lexer": "ipython3",
   "version": "3.12.4"
  }
 },
 "nbformat": 4,
 "nbformat_minor": 2
}
