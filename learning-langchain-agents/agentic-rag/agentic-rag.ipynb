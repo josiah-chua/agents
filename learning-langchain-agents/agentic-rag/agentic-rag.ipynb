{
 "cells": [
  {
   "cell_type": "code",
   "execution_count": 1,
   "id": "44af0744-509d-485a-84fd-67498bfb7dac",
   "metadata": {},
   "outputs": [
    {
     "data": {
      "text/plain": [
       "True"
      ]
     },
     "execution_count": 1,
     "metadata": {},
     "output_type": "execute_result"
    }
   ],
   "source": [
    "import os\n",
    "from dotenv import load_dotenv\n",
    "load_dotenv()"
   ]
  },
  {
   "cell_type": "code",
   "execution_count": 30,
   "id": "a5c77e5d-89a1-4288-ade4-1fdbaca51149",
   "metadata": {},
   "outputs": [],
   "source": [
    "from langchain_openai import AzureChatOpenAI\n",
    "from langchain_openai import AzureOpenAIEmbeddings\n",
    "\n",
    "from langchain_core.messages.system import SystemMessage\n",
    "from langchain_core.messages import HumanMessage"
   ]
  },
  {
   "cell_type": "code",
   "execution_count": 21,
   "id": "2280c2de-50c8-455f-b1a1-72fd9851912f",
   "metadata": {},
   "outputs": [],
   "source": [
    "from langchain_openai import AzureOpenAIEmbeddings\n",
    "\n",
    "embeddings = AzureOpenAIEmbeddings(\n",
    "    model=os.environ['AZURE_OPENAI_EMB_DEPLOYMENT_ID'],\n",
    "    azure_endpoint=os.environ['AZURE_OPENAI_ENDPOINT'],\n",
    "    api_key=os.environ['AZURE_OPENAI_KEY'],\n",
    "    openai_api_version=os.environ['AZURE_OPENAI_API_VERSION'],\n",
    ")\n",
    "\n",
    "llm = AzureChatOpenAI(\n",
    "    api_key=os.environ['AZURE_OPENAI_KEY'],\n",
    "    azure_endpoint=os.environ['AZURE_OPENAI_ENDPOINT'],\n",
    "    azure_deployment=os.environ['AZURE_OPENAI_DEPLOYMENT_ID'],\n",
    "    api_version=os.environ['AZURE_OPENAI_API_VERSION'],\n",
    "    temperature=0,\n",
    "    max_tokens=4096,\n",
    "    timeout=10,\n",
    "    max_retries=2,\n",
    ")"
   ]
  },
  {
   "cell_type": "code",
   "execution_count": 22,
   "id": "ce58122a-bd24-4e8d-9e0e-25356014e40f",
   "metadata": {},
   "outputs": [],
   "source": [
    "from langchain_chroma import Chroma\n",
    "\n",
    "vector_store = Chroma(\n",
    "    collection_name=\"regulatory_docs\",\n",
    "    embedding_function=embeddings,\n",
    "    persist_directory=\"./regulatory_docs_db\"\n",
    ")"
   ]
  },
  {
   "cell_type": "code",
   "execution_count": 23,
   "id": "714ad2de-817c-4718-9c0f-af3974bd910a",
   "metadata": {},
   "outputs": [],
   "source": [
    "from langchain_community.document_loaders import PyPDFLoader"
   ]
  },
  {
   "cell_type": "code",
   "execution_count": 24,
   "id": "69e79414-f9ed-4a6e-9017-8f28676c8371",
   "metadata": {},
   "outputs": [],
   "source": [
    "loader = PyPDFLoader(\n",
    "    './data/bcbs238 (LCR).pdf',\n",
    "    extract_images = False,\n",
    "    extraction_mode = \"layout\",)"
   ]
  },
  {
   "cell_type": "code",
   "execution_count": 25,
   "id": "6223e18c-fb59-412d-9d13-299393c995be",
   "metadata": {},
   "outputs": [],
   "source": [
    "pages = []\n",
    "async for page in loader.alazy_load():\n",
    "    pages.append(page)"
   ]
  },
  {
   "cell_type": "code",
   "execution_count": 34,
   "id": "704604fc-70ab-4178-8e22-b86c7729afdf",
   "metadata": {},
   "outputs": [],
   "source": [
    "# System message\n",
    "sys_msg = SystemMessage(content=\"\"\"You are text data processing assistant who's aim is to classify the content in the page give to you by the user into the following categories:\n",
    "- No useful content (cover pages, titles, blank pages etc)\n",
    "- Content page (outlines the different sections/chapters)\n",
    "- Useful content (content of the document)\n",
    "Only give the classification and nothing else\"\"\")"
   ]
  },
  {
   "cell_type": "code",
   "execution_count": 35,
   "id": "f43fed38-cf9b-4707-bca1-f6cc6e29d37c",
   "metadata": {},
   "outputs": [
    {
     "name": "stdout",
     "output_type": "stream",
     "text": [
      "-----0-----\n",
      "No useful content\n",
      "-----1-----\n",
      "No useful content\n",
      "-----2-----\n",
      "No useful content\n",
      "-----3-----\n",
      "No useful content\n",
      "-----4-----\n",
      "Content page\n",
      "-----5-----\n",
      "Useful content\n",
      "-----6-----\n",
      "Useful content\n",
      "-----7-----\n",
      "Useful content\n",
      "-----8-----\n",
      "Useful content\n",
      "-----9-----\n",
      "Useful content\n",
      "-----10-----\n",
      "Useful content\n",
      "-----11-----\n",
      "Useful content\n",
      "-----12-----\n",
      "Useful content\n",
      "-----13-----\n",
      "Useful content\n",
      "-----14-----\n",
      "Useful content\n",
      "-----15-----\n",
      "Useful content\n",
      "-----16-----\n",
      "Useful content\n",
      "-----17-----\n",
      "Useful content\n",
      "-----18-----\n",
      "Useful content\n",
      "-----19-----\n",
      "Useful content\n",
      "-----20-----\n",
      "Useful content\n",
      "-----21-----\n",
      "Useful content\n",
      "-----22-----\n",
      "Useful content\n",
      "-----23-----\n",
      "Useful content\n",
      "-----24-----\n",
      "Useful content\n",
      "-----25-----\n",
      "Useful content\n",
      "-----26-----\n",
      "Useful content\n",
      "-----27-----\n",
      "Useful content\n",
      "-----28-----\n",
      "Useful content\n",
      "-----29-----\n",
      "Useful content\n",
      "-----30-----\n",
      "Useful content\n",
      "-----31-----\n",
      "Useful content\n",
      "-----32-----\n",
      "Useful content\n",
      "-----33-----\n",
      "Useful content\n",
      "-----34-----\n",
      "Useful content\n",
      "-----35-----\n",
      "Useful content\n",
      "-----36-----\n",
      "Useful content\n",
      "-----37-----\n",
      "Useful content\n",
      "-----38-----\n",
      "Useful content\n",
      "-----39-----\n",
      "Useful content\n",
      "-----40-----\n",
      "Useful content\n",
      "-----41-----\n",
      "Useful content\n",
      "-----42-----\n",
      "Useful content\n",
      "-----43-----\n",
      "Useful content\n",
      "-----44-----\n",
      "Useful content\n",
      "-----45-----\n",
      "Useful content\n",
      "-----46-----\n",
      "Useful content\n",
      "-----47-----\n",
      "Useful content\n",
      "-----48-----\n",
      "Useful content\n",
      "-----49-----\n",
      "Useful content\n",
      "-----50-----\n",
      "Useful content\n",
      "-----51-----\n",
      "Useful content\n",
      "-----52-----\n",
      "Useful content\n",
      "-----53-----\n",
      "Useful content\n",
      "-----54-----\n",
      "Useful content\n",
      "-----55-----\n",
      "Useful content\n",
      "-----56-----\n",
      "Useful content\n",
      "-----57-----\n",
      "Useful content\n",
      "-----58-----\n",
      "Useful content\n",
      "-----59-----\n",
      "Useful content\n",
      "-----60-----\n",
      "Useful content\n",
      "-----61-----\n",
      "Useful content\n",
      "-----62-----\n",
      "Useful content\n",
      "-----63-----\n",
      "Useful content\n",
      "-----64-----\n",
      "Useful content\n",
      "-----65-----\n",
      "Useful content\n",
      "-----66-----\n",
      "Useful content\n",
      "-----67-----\n",
      "Useful content\n",
      "-----68-----\n",
      "Useful content\n",
      "-----69-----\n",
      "Useful content\n",
      "-----70-----\n",
      "Useful content\n",
      "-----71-----\n",
      "Useful content\n",
      "-----72-----\n",
      "Useful content\n",
      "-----73-----\n",
      "Useful content\n",
      "-----74-----\n",
      "Useful content\n"
     ]
    }
   ],
   "source": [
    "for i in range(len(pages)):\n",
    "    user_msg = HumanMessage(content=f'-----Page Content-----\\n{pages[i].page_content}')\n",
    "    output = llm.invoke([sys_msg, user_msg])\n",
    "    print(f'-----{i}-----')\n",
    "    print(output.content)"
   ]
  },
  {
   "cell_type": "markdown",
   "id": "28bebdcd-dc19-4d17-b760-b8a04cdfbdb6",
   "metadata": {},
   "source": [
    "pages[]"
   ]
  },
  {
   "cell_type": "code",
   "execution_count": null,
   "id": "4ccebc91-13e7-4bb2-a077-6eff61b6661f",
   "metadata": {},
   "outputs": [],
   "source": []
  },
  {
   "cell_type": "code",
   "execution_count": null,
   "id": "d3963ad8-3ff8-4cab-8da6-fe1f4cab33c9",
   "metadata": {},
   "outputs": [],
   "source": []
  }
 ],
 "metadata": {
  "kernelspec": {
   "display_name": "Python 3 (ipykernel)",
   "language": "python",
   "name": "python3"
  },
  "language_info": {
   "codemirror_mode": {
    "name": "ipython",
    "version": 3
   },
   "file_extension": ".py",
   "mimetype": "text/x-python",
   "name": "python",
   "nbconvert_exporter": "python",
   "pygments_lexer": "ipython3",
   "version": "3.11.11"
  }
 },
 "nbformat": 4,
 "nbformat_minor": 5
}
